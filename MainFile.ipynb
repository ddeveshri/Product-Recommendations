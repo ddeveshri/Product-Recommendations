{
 "cells": [
  {
   "cell_type": "code",
   "execution_count": 5,
   "id": "c4a62f7f-51e0-492e-b5a9-489c4fc74f10",
   "metadata": {},
   "outputs": [],
   "source": [
    "import pandas as pd\n",
    "import numpy as np\n",
    "import matplotlib.pyplot as plt\n",
    "import seaborn as sns"
   ]
  },
  {
   "cell_type": "code",
   "execution_count": 6,
   "id": "477ac7c8-2f7f-4005-9d6f-dd48897ee64c",
   "metadata": {},
   "outputs": [],
   "source": [
    "df = pd.read_csv('/Users/deveshriiii/Downloads/ratings_Beauty.csv')"
   ]
  },
  {
   "cell_type": "code",
   "execution_count": 7,
   "id": "55ba8b9d-1d15-48e0-8f12-6a7e603f8b8b",
   "metadata": {},
   "outputs": [
    {
     "data": {
      "text/plain": [
       "(2023070, 4)"
      ]
     },
     "execution_count": 7,
     "metadata": {},
     "output_type": "execute_result"
    }
   ],
   "source": [
    "df.shape"
   ]
  },
  {
   "cell_type": "code",
   "execution_count": 8,
   "id": "b1a84ae4-59fe-4c81-8ef9-90922bfb295e",
   "metadata": {},
   "outputs": [
    {
     "data": {
      "text/html": [
       "<div>\n",
       "<style scoped>\n",
       "    .dataframe tbody tr th:only-of-type {\n",
       "        vertical-align: middle;\n",
       "    }\n",
       "\n",
       "    .dataframe tbody tr th {\n",
       "        vertical-align: top;\n",
       "    }\n",
       "\n",
       "    .dataframe thead th {\n",
       "        text-align: right;\n",
       "    }\n",
       "</style>\n",
       "<table border=\"1\" class=\"dataframe\">\n",
       "  <thead>\n",
       "    <tr style=\"text-align: right;\">\n",
       "      <th></th>\n",
       "      <th>UserId</th>\n",
       "      <th>ProductId</th>\n",
       "      <th>Rating</th>\n",
       "      <th>Timestamp</th>\n",
       "    </tr>\n",
       "  </thead>\n",
       "  <tbody>\n",
       "    <tr>\n",
       "      <th>count</th>\n",
       "      <td>2023070</td>\n",
       "      <td>2023070</td>\n",
       "      <td>2.023070e+06</td>\n",
       "      <td>2.023070e+06</td>\n",
       "    </tr>\n",
       "    <tr>\n",
       "      <th>unique</th>\n",
       "      <td>1210271</td>\n",
       "      <td>249274</td>\n",
       "      <td>NaN</td>\n",
       "      <td>NaN</td>\n",
       "    </tr>\n",
       "    <tr>\n",
       "      <th>top</th>\n",
       "      <td>A3KEZLJ59C1JVH</td>\n",
       "      <td>B001MA0QY2</td>\n",
       "      <td>NaN</td>\n",
       "      <td>NaN</td>\n",
       "    </tr>\n",
       "    <tr>\n",
       "      <th>freq</th>\n",
       "      <td>389</td>\n",
       "      <td>7533</td>\n",
       "      <td>NaN</td>\n",
       "      <td>NaN</td>\n",
       "    </tr>\n",
       "    <tr>\n",
       "      <th>mean</th>\n",
       "      <td>NaN</td>\n",
       "      <td>NaN</td>\n",
       "      <td>4.149036e+00</td>\n",
       "      <td>1.360389e+09</td>\n",
       "    </tr>\n",
       "    <tr>\n",
       "      <th>std</th>\n",
       "      <td>NaN</td>\n",
       "      <td>NaN</td>\n",
       "      <td>1.311505e+00</td>\n",
       "      <td>4.611860e+07</td>\n",
       "    </tr>\n",
       "    <tr>\n",
       "      <th>min</th>\n",
       "      <td>NaN</td>\n",
       "      <td>NaN</td>\n",
       "      <td>1.000000e+00</td>\n",
       "      <td>9.087552e+08</td>\n",
       "    </tr>\n",
       "    <tr>\n",
       "      <th>25%</th>\n",
       "      <td>NaN</td>\n",
       "      <td>NaN</td>\n",
       "      <td>4.000000e+00</td>\n",
       "      <td>1.350259e+09</td>\n",
       "    </tr>\n",
       "    <tr>\n",
       "      <th>50%</th>\n",
       "      <td>NaN</td>\n",
       "      <td>NaN</td>\n",
       "      <td>5.000000e+00</td>\n",
       "      <td>1.372810e+09</td>\n",
       "    </tr>\n",
       "    <tr>\n",
       "      <th>75%</th>\n",
       "      <td>NaN</td>\n",
       "      <td>NaN</td>\n",
       "      <td>5.000000e+00</td>\n",
       "      <td>1.391472e+09</td>\n",
       "    </tr>\n",
       "    <tr>\n",
       "      <th>max</th>\n",
       "      <td>NaN</td>\n",
       "      <td>NaN</td>\n",
       "      <td>5.000000e+00</td>\n",
       "      <td>1.406074e+09</td>\n",
       "    </tr>\n",
       "  </tbody>\n",
       "</table>\n",
       "</div>"
      ],
      "text/plain": [
       "                UserId   ProductId        Rating     Timestamp\n",
       "count          2023070     2023070  2.023070e+06  2.023070e+06\n",
       "unique         1210271      249274           NaN           NaN\n",
       "top     A3KEZLJ59C1JVH  B001MA0QY2           NaN           NaN\n",
       "freq               389        7533           NaN           NaN\n",
       "mean               NaN         NaN  4.149036e+00  1.360389e+09\n",
       "std                NaN         NaN  1.311505e+00  4.611860e+07\n",
       "min                NaN         NaN  1.000000e+00  9.087552e+08\n",
       "25%                NaN         NaN  4.000000e+00  1.350259e+09\n",
       "50%                NaN         NaN  5.000000e+00  1.372810e+09\n",
       "75%                NaN         NaN  5.000000e+00  1.391472e+09\n",
       "max                NaN         NaN  5.000000e+00  1.406074e+09"
      ]
     },
     "execution_count": 8,
     "metadata": {},
     "output_type": "execute_result"
    }
   ],
   "source": [
    "df.describe(include = 'all')"
   ]
  },
  {
   "cell_type": "code",
   "execution_count": 10,
   "id": "2cadfd69-40c5-4703-9e20-af4933a22246",
   "metadata": {},
   "outputs": [
    {
     "data": {
      "text/html": [
       "<div>\n",
       "<style scoped>\n",
       "    .dataframe tbody tr th:only-of-type {\n",
       "        vertical-align: middle;\n",
       "    }\n",
       "\n",
       "    .dataframe tbody tr th {\n",
       "        vertical-align: top;\n",
       "    }\n",
       "\n",
       "    .dataframe thead th {\n",
       "        text-align: right;\n",
       "    }\n",
       "</style>\n",
       "<table border=\"1\" class=\"dataframe\">\n",
       "  <thead>\n",
       "    <tr style=\"text-align: right;\">\n",
       "      <th></th>\n",
       "      <th>0</th>\n",
       "    </tr>\n",
       "  </thead>\n",
       "  <tbody>\n",
       "    <tr>\n",
       "      <th>UserId</th>\n",
       "      <td>0.0</td>\n",
       "    </tr>\n",
       "    <tr>\n",
       "      <th>ProductId</th>\n",
       "      <td>0.0</td>\n",
       "    </tr>\n",
       "    <tr>\n",
       "      <th>Rating</th>\n",
       "      <td>0.0</td>\n",
       "    </tr>\n",
       "    <tr>\n",
       "      <th>Timestamp</th>\n",
       "      <td>0.0</td>\n",
       "    </tr>\n",
       "  </tbody>\n",
       "</table>\n",
       "</div>"
      ],
      "text/plain": [
       "             0\n",
       "UserId     0.0\n",
       "ProductId  0.0\n",
       "Rating     0.0\n",
       "Timestamp  0.0"
      ]
     },
     "execution_count": 10,
     "metadata": {},
     "output_type": "execute_result"
    }
   ],
   "source": [
    "missing_data = pd.DataFrame(df.isnull().mean()*100)\n",
    "missing_data"
   ]
  },
  {
   "cell_type": "code",
   "execution_count": 13,
   "id": "ecc86397-9372-4ce6-be45-481bb3839191",
   "metadata": {},
   "outputs": [
    {
     "name": "stdout",
     "output_type": "stream",
     "text": [
      "<class 'pandas.core.frame.DataFrame'>\n",
      "RangeIndex: 2023070 entries, 0 to 2023069\n",
      "Data columns (total 4 columns):\n",
      " #   Column     Dtype  \n",
      "---  ------     -----  \n",
      " 0   UserId     object \n",
      " 1   ProductId  object \n",
      " 2   Rating     float64\n",
      " 3   Timestamp  int64  \n",
      "dtypes: float64(1), int64(1), object(2)\n",
      "memory usage: 61.7+ MB\n"
     ]
    }
   ],
   "source": [
    "df.info()"
   ]
  },
  {
   "cell_type": "code",
   "execution_count": 14,
   "id": "10a16a20-1f12-42e1-a212-31bfe8f1d1e4",
   "metadata": {},
   "outputs": [
    {
     "data": {
      "text/html": [
       "<div>\n",
       "<style scoped>\n",
       "    .dataframe tbody tr th:only-of-type {\n",
       "        vertical-align: middle;\n",
       "    }\n",
       "\n",
       "    .dataframe tbody tr th {\n",
       "        vertical-align: top;\n",
       "    }\n",
       "\n",
       "    .dataframe thead th {\n",
       "        text-align: right;\n",
       "    }\n",
       "</style>\n",
       "<table border=\"1\" class=\"dataframe\">\n",
       "  <thead>\n",
       "    <tr style=\"text-align: right;\">\n",
       "      <th></th>\n",
       "      <th>UserId</th>\n",
       "      <th>ProductId</th>\n",
       "      <th>Rating</th>\n",
       "      <th>Timestamp</th>\n",
       "    </tr>\n",
       "  </thead>\n",
       "  <tbody>\n",
       "    <tr>\n",
       "      <th>0</th>\n",
       "      <td>A39HTATAQ9V7YF</td>\n",
       "      <td>0205616461</td>\n",
       "      <td>5.0</td>\n",
       "      <td>1369699200</td>\n",
       "    </tr>\n",
       "    <tr>\n",
       "      <th>1</th>\n",
       "      <td>A3JM6GV9MNOF9X</td>\n",
       "      <td>0558925278</td>\n",
       "      <td>3.0</td>\n",
       "      <td>1355443200</td>\n",
       "    </tr>\n",
       "    <tr>\n",
       "      <th>2</th>\n",
       "      <td>A1Z513UWSAAO0F</td>\n",
       "      <td>0558925278</td>\n",
       "      <td>5.0</td>\n",
       "      <td>1404691200</td>\n",
       "    </tr>\n",
       "    <tr>\n",
       "      <th>3</th>\n",
       "      <td>A1WMRR494NWEWV</td>\n",
       "      <td>0733001998</td>\n",
       "      <td>4.0</td>\n",
       "      <td>1382572800</td>\n",
       "    </tr>\n",
       "    <tr>\n",
       "      <th>4</th>\n",
       "      <td>A3IAAVS479H7M7</td>\n",
       "      <td>0737104473</td>\n",
       "      <td>1.0</td>\n",
       "      <td>1274227200</td>\n",
       "    </tr>\n",
       "  </tbody>\n",
       "</table>\n",
       "</div>"
      ],
      "text/plain": [
       "           UserId   ProductId  Rating   Timestamp\n",
       "0  A39HTATAQ9V7YF  0205616461     5.0  1369699200\n",
       "1  A3JM6GV9MNOF9X  0558925278     3.0  1355443200\n",
       "2  A1Z513UWSAAO0F  0558925278     5.0  1404691200\n",
       "3  A1WMRR494NWEWV  0733001998     4.0  1382572800\n",
       "4  A3IAAVS479H7M7  0737104473     1.0  1274227200"
      ]
     },
     "execution_count": 14,
     "metadata": {},
     "output_type": "execute_result"
    }
   ],
   "source": [
    "df.head()"
   ]
  },
  {
   "cell_type": "code",
   "execution_count": 15,
   "id": "bd3f2266-45b8-42ee-9850-3cbc51c196bd",
   "metadata": {},
   "outputs": [
    {
     "name": "stdout",
     "output_type": "stream",
     "text": [
      "Upper bound: 0          False\n",
      "1          False\n",
      "2          False\n",
      "3          False\n",
      "4          False\n",
      "           ...  \n",
      "2023065    False\n",
      "2023066    False\n",
      "2023067    False\n",
      "2023068    False\n",
      "2023069    False\n",
      "Name: Rating, Length: 2023070, dtype: bool\n",
      "(array([], dtype=int64),)\n",
      "Lower bound: 0          False\n",
      "1          False\n",
      "2          False\n",
      "3          False\n",
      "4           True\n",
      "           ...  \n",
      "2023065    False\n",
      "2023066    False\n",
      "2023067    False\n",
      "2023068    False\n",
      "2023069    False\n",
      "Name: Rating, Length: 2023070, dtype: bool\n",
      "(array([      4,      23,      30, ..., 2022846, 2022913, 2022969]),)\n"
     ]
    }
   ],
   "source": [
    "# IQR\n",
    "Q1 = np.percentile(df['Rating'], 25,\n",
    "                   interpolation = 'midpoint')\n",
    " \n",
    "Q3 = np.percentile(df['Rating'], 75,\n",
    "                   interpolation = 'midpoint')\n",
    "IQR = Q3 - Q1\n",
    "\n",
    "\n",
    "# Above Upper bound\n",
    "upper = df['Rating'] >= (Q3+1.5*IQR)\n",
    " \n",
    "print(\"Upper bound:\",upper)\n",
    "print(np.where(upper))\n",
    " \n",
    "# Below Lower bound\n",
    "lower = df['Rating'] <= (Q1-1.5*IQR)\n",
    "print(\"Lower bound:\", lower)\n",
    "print(np.where(lower))"
   ]
  },
  {
   "cell_type": "code",
   "execution_count": 16,
   "id": "31a722a0-75b5-4551-ba9d-53615e0743d9",
   "metadata": {},
   "outputs": [
    {
     "data": {
      "text/plain": [
       "1.0"
      ]
     },
     "execution_count": 16,
     "metadata": {},
     "output_type": "execute_result"
    }
   ],
   "source": [
    "df['Rating'][4]"
   ]
  },
  {
   "cell_type": "code",
   "execution_count": null,
   "id": "00c222dc-075e-4046-83ac-b1164f3e18bb",
   "metadata": {},
   "outputs": [],
   "source": [
    "EXPLORATORY DATA ANALYSIS"
   ]
  },
  {
   "cell_type": "code",
   "execution_count": null,
   "id": "cd40477c-aa73-443c-b18d-e75b0b92ce0a",
   "metadata": {},
   "outputs": [],
   "source": [
    "Total count of each rati"
   ]
  },
  {
   "cell_type": "code",
   "execution_count": 18,
   "id": "94c7c6ae-3202-4267-b36a-55f22442b041",
   "metadata": {},
   "outputs": [
    {
     "data": {
      "image/png": "[encoded data removed]",
      "text/plain": [
       "<Figure size 640x480 with 1 Axes>"
      ]
     },
     "metadata": {},
     "output_type": "display_data"
    }
   ],
   "source": [
    "sns.countplot(x='Rating', data=df)\n",
    "plt.show()"
   ]
  },
  {
   "cell_type": "code",
   "execution_count": 24,
   "id": "7e1bc2b6-1a79-4b52-8b00-d6c91e08d631",
   "metadata": {},
   "outputs": [
    {
     "data": {
      "text/plain": [
       "1210271"
      ]
     },
     "execution_count": 24,
     "metadata": {},
     "output_type": "execute_result"
    }
   ],
   "source": [
    "len(df['UserId'].unique())"
   ]
  },
  {
   "cell_type": "code",
   "execution_count": null,
   "id": "8786449f-f57f-4d50-9148-abd98c57f4fd",
   "metadata": {},
   "outputs": [],
   "source": [
    "TOP PRODUCTS BASED ON SALES"
   ]
  },
  {
   "cell_type": "code",
   "execution_count": 25,
   "id": "b3bf42c9-b106-4f19-91c8-541e4ad6b12c",
   "metadata": {},
   "outputs": [
    {
     "data": {
      "text/html": [
       "<div>\n",
       "<style scoped>\n",
       "    .dataframe tbody tr th:only-of-type {\n",
       "        vertical-align: middle;\n",
       "    }\n",
       "\n",
       "    .dataframe tbody tr th {\n",
       "        vertical-align: top;\n",
       "    }\n",
       "\n",
       "    .dataframe thead th {\n",
       "        text-align: right;\n",
       "    }\n",
       "</style>\n",
       "<table border=\"1\" class=\"dataframe\">\n",
       "  <thead>\n",
       "    <tr style=\"text-align: right;\">\n",
       "      <th></th>\n",
       "      <th>ProductID</th>\n",
       "      <th>Count</th>\n",
       "    </tr>\n",
       "  </thead>\n",
       "  <tbody>\n",
       "    <tr>\n",
       "      <th>0</th>\n",
       "      <td>0205616461</td>\n",
       "      <td>7533</td>\n",
       "    </tr>\n",
       "    <tr>\n",
       "      <th>1</th>\n",
       "      <td>0558925278</td>\n",
       "      <td>2869</td>\n",
       "    </tr>\n",
       "    <tr>\n",
       "      <th>2</th>\n",
       "      <td>0733001998</td>\n",
       "      <td>2477</td>\n",
       "    </tr>\n",
       "    <tr>\n",
       "      <th>3</th>\n",
       "      <td>0737104473</td>\n",
       "      <td>2143</td>\n",
       "    </tr>\n",
       "    <tr>\n",
       "      <th>4</th>\n",
       "      <td>0762451459</td>\n",
       "      <td>2088</td>\n",
       "    </tr>\n",
       "    <tr>\n",
       "      <th>5</th>\n",
       "      <td>1304139212</td>\n",
       "      <td>2041</td>\n",
       "    </tr>\n",
       "    <tr>\n",
       "      <th>6</th>\n",
       "      <td>1304139220</td>\n",
       "      <td>1918</td>\n",
       "    </tr>\n",
       "    <tr>\n",
       "      <th>7</th>\n",
       "      <td>130414089X</td>\n",
       "      <td>1885</td>\n",
       "    </tr>\n",
       "    <tr>\n",
       "      <th>8</th>\n",
       "      <td>130414643X</td>\n",
       "      <td>1838</td>\n",
       "    </tr>\n",
       "    <tr>\n",
       "      <th>9</th>\n",
       "      <td>1304146537</td>\n",
       "      <td>1589</td>\n",
       "    </tr>\n",
       "    <tr>\n",
       "      <th>10</th>\n",
       "      <td>130414674X</td>\n",
       "      <td>1558</td>\n",
       "    </tr>\n",
       "    <tr>\n",
       "      <th>11</th>\n",
       "      <td>1304168522</td>\n",
       "      <td>1475</td>\n",
       "    </tr>\n",
       "    <tr>\n",
       "      <th>12</th>\n",
       "      <td>1304174778</td>\n",
       "      <td>1468</td>\n",
       "    </tr>\n",
       "    <tr>\n",
       "      <th>13</th>\n",
       "      <td>1304174867</td>\n",
       "      <td>1430</td>\n",
       "    </tr>\n",
       "    <tr>\n",
       "      <th>14</th>\n",
       "      <td>1304174905</td>\n",
       "      <td>1379</td>\n",
       "    </tr>\n",
       "    <tr>\n",
       "      <th>15</th>\n",
       "      <td>1304196046</td>\n",
       "      <td>1349</td>\n",
       "    </tr>\n",
       "    <tr>\n",
       "      <th>16</th>\n",
       "      <td>1304196062</td>\n",
       "      <td>1349</td>\n",
       "    </tr>\n",
       "    <tr>\n",
       "      <th>17</th>\n",
       "      <td>1304196070</td>\n",
       "      <td>1347</td>\n",
       "    </tr>\n",
       "    <tr>\n",
       "      <th>18</th>\n",
       "      <td>1304196135</td>\n",
       "      <td>1341</td>\n",
       "    </tr>\n",
       "    <tr>\n",
       "      <th>19</th>\n",
       "      <td>1304351475</td>\n",
       "      <td>1333</td>\n",
       "    </tr>\n",
       "    <tr>\n",
       "      <th>20</th>\n",
       "      <td>1304482596</td>\n",
       "      <td>1330</td>\n",
       "    </tr>\n",
       "  </tbody>\n",
       "</table>\n",
       "</div>"
      ],
      "text/plain": [
       "     ProductID  Count\n",
       "0   0205616461   7533\n",
       "1   0558925278   2869\n",
       "2   0733001998   2477\n",
       "3   0737104473   2143\n",
       "4   0762451459   2088\n",
       "5   1304139212   2041\n",
       "6   1304139220   1918\n",
       "7   130414089X   1885\n",
       "8   130414643X   1838\n",
       "9   1304146537   1589\n",
       "10  130414674X   1558\n",
       "11  1304168522   1475\n",
       "12  1304174778   1468\n",
       "13  1304174867   1430\n",
       "14  1304174905   1379\n",
       "15  1304196046   1349\n",
       "16  1304196062   1349\n",
       "17  1304196070   1347\n",
       "18  1304196135   1341\n",
       "19  1304351475   1333\n",
       "20  1304482596   1330"
      ]
     },
     "execution_count": 25,
     "metadata": {},
     "output_type": "execute_result"
    }
   ],
   "source": [
    "#Top 20 Products based on sales.\n",
    "\n",
    "a = list(df['ProductId'].value_counts())\n",
    "b = list(df['ProductId'].unique())\n",
    "top_20_products = pd.DataFrame(list(zip(b[0:21],a[0:21])),columns =['ProductID', 'Count'])\n",
    "top_20_products"
   ]
  },
  {
   "cell_type": "code",
   "execution_count": 26,
   "id": "895a06d3-dff2-4035-9627-436dbec8b0c4",
   "metadata": {},
   "outputs": [
    {
     "data": {
      "image/png": "[encoded data removed]",
      "text/plain": [
       "<Figure size 1000x700 with 1 Axes>"
      ]
     },
     "metadata": {},
     "output_type": "display_data"
    }
   ],
   "source": [
    "plt.figure(figsize=(10, 7))\n",
    "sns.barplot(x=top_20_products['ProductID'].head(5), y=top_20_products['Count'].head(5))\n",
    "plt.xlabel('Product ID')\n",
    "plt.ylabel('Count')\n",
    "plt.title('Top 5 Products by Count')\n",
    "plt.show()"
   ]
  },
  {
   "cell_type": "code",
   "execution_count": null,
   "id": "ccc361d3-1b4f-4af9-bf46-0d0813ea4b5c",
   "metadata": {},
   "outputs": [],
   "source": [
    "Number of Unique users"
   ]
  },
  {
   "cell_type": "code",
   "execution_count": 27,
   "id": "433d3a8e-db9a-4360-bad1-351a6f48b6fb",
   "metadata": {},
   "outputs": [
    {
     "name": "stdout",
     "output_type": "stream",
     "text": [
      "Number of unique users 1210271\n"
     ]
    }
   ],
   "source": [
    "print('Number of unique users', len(df['UserId'].unique()))"
   ]
  },
  {
   "cell_type": "code",
   "execution_count": 28,
   "id": "acf68b03-04e3-43ee-80f1-902b5f0d1021",
   "metadata": {},
   "outputs": [
    {
     "data": {
      "text/html": [
       "<div>\n",
       "<style scoped>\n",
       "    .dataframe tbody tr th:only-of-type {\n",
       "        vertical-align: middle;\n",
       "    }\n",
       "\n",
       "    .dataframe tbody tr th {\n",
       "        vertical-align: top;\n",
       "    }\n",
       "\n",
       "    .dataframe thead th {\n",
       "        text-align: right;\n",
       "    }\n",
       "</style>\n",
       "<table border=\"1\" class=\"dataframe\">\n",
       "  <thead>\n",
       "    <tr style=\"text-align: right;\">\n",
       "      <th></th>\n",
       "      <th>UserID</th>\n",
       "      <th>Count</th>\n",
       "    </tr>\n",
       "  </thead>\n",
       "  <tbody>\n",
       "    <tr>\n",
       "      <th>0</th>\n",
       "      <td>A39HTATAQ9V7YF</td>\n",
       "      <td>389</td>\n",
       "    </tr>\n",
       "    <tr>\n",
       "      <th>1</th>\n",
       "      <td>A3JM6GV9MNOF9X</td>\n",
       "      <td>336</td>\n",
       "    </tr>\n",
       "    <tr>\n",
       "      <th>2</th>\n",
       "      <td>A1Z513UWSAAO0F</td>\n",
       "      <td>326</td>\n",
       "    </tr>\n",
       "    <tr>\n",
       "      <th>3</th>\n",
       "      <td>A1WMRR494NWEWV</td>\n",
       "      <td>278</td>\n",
       "    </tr>\n",
       "    <tr>\n",
       "      <th>4</th>\n",
       "      <td>A3IAAVS479H7M7</td>\n",
       "      <td>276</td>\n",
       "    </tr>\n",
       "    <tr>\n",
       "      <th>5</th>\n",
       "      <td>AKJHHD5VEH7VG</td>\n",
       "      <td>275</td>\n",
       "    </tr>\n",
       "    <tr>\n",
       "      <th>6</th>\n",
       "      <td>A1BG8QW55XHN6U</td>\n",
       "      <td>269</td>\n",
       "    </tr>\n",
       "    <tr>\n",
       "      <th>7</th>\n",
       "      <td>A22VW0P4VZHDE3</td>\n",
       "      <td>259</td>\n",
       "    </tr>\n",
       "    <tr>\n",
       "      <th>8</th>\n",
       "      <td>A3V3RE4132GKRO</td>\n",
       "      <td>249</td>\n",
       "    </tr>\n",
       "    <tr>\n",
       "      <th>9</th>\n",
       "      <td>A327B0I7CYTEJC</td>\n",
       "      <td>225</td>\n",
       "    </tr>\n",
       "    <tr>\n",
       "      <th>10</th>\n",
       "      <td>AIFAAVTUYHEHB</td>\n",
       "      <td>211</td>\n",
       "    </tr>\n",
       "    <tr>\n",
       "      <th>11</th>\n",
       "      <td>AVOGV98AYOFG2</td>\n",
       "      <td>209</td>\n",
       "    </tr>\n",
       "    <tr>\n",
       "      <th>12</th>\n",
       "      <td>A6R426V4J7AOM</td>\n",
       "      <td>205</td>\n",
       "    </tr>\n",
       "    <tr>\n",
       "      <th>13</th>\n",
       "      <td>AKGB62WGF35J8</td>\n",
       "      <td>186</td>\n",
       "    </tr>\n",
       "    <tr>\n",
       "      <th>14</th>\n",
       "      <td>A3A4C2K3TWDAO5</td>\n",
       "      <td>182</td>\n",
       "    </tr>\n",
       "    <tr>\n",
       "      <th>15</th>\n",
       "      <td>A3FV2Q7WPZMQPV</td>\n",
       "      <td>173</td>\n",
       "    </tr>\n",
       "    <tr>\n",
       "      <th>16</th>\n",
       "      <td>A1RXI3A1E99112</td>\n",
       "      <td>172</td>\n",
       "    </tr>\n",
       "    <tr>\n",
       "      <th>17</th>\n",
       "      <td>A26QL1FBQO9C0E</td>\n",
       "      <td>170</td>\n",
       "    </tr>\n",
       "    <tr>\n",
       "      <th>18</th>\n",
       "      <td>A19KEEVZYO1KO6</td>\n",
       "      <td>168</td>\n",
       "    </tr>\n",
       "    <tr>\n",
       "      <th>19</th>\n",
       "      <td>A1F6HRR58TQ2R0</td>\n",
       "      <td>164</td>\n",
       "    </tr>\n",
       "    <tr>\n",
       "      <th>20</th>\n",
       "      <td>AVQP6PO1NK0IJ</td>\n",
       "      <td>155</td>\n",
       "    </tr>\n",
       "  </tbody>\n",
       "</table>\n",
       "</div>"
      ],
      "text/plain": [
       "            UserID  Count\n",
       "0   A39HTATAQ9V7YF    389\n",
       "1   A3JM6GV9MNOF9X    336\n",
       "2   A1Z513UWSAAO0F    326\n",
       "3   A1WMRR494NWEWV    278\n",
       "4   A3IAAVS479H7M7    276\n",
       "5    AKJHHD5VEH7VG    275\n",
       "6   A1BG8QW55XHN6U    269\n",
       "7   A22VW0P4VZHDE3    259\n",
       "8   A3V3RE4132GKRO    249\n",
       "9   A327B0I7CYTEJC    225\n",
       "10   AIFAAVTUYHEHB    211\n",
       "11   AVOGV98AYOFG2    209\n",
       "12   A6R426V4J7AOM    205\n",
       "13   AKGB62WGF35J8    186\n",
       "14  A3A4C2K3TWDAO5    182\n",
       "15  A3FV2Q7WPZMQPV    173\n",
       "16  A1RXI3A1E99112    172\n",
       "17  A26QL1FBQO9C0E    170\n",
       "18  A19KEEVZYO1KO6    168\n",
       "19  A1F6HRR58TQ2R0    164\n",
       "20   AVQP6PO1NK0IJ    155"
      ]
     },
     "execution_count": 28,
     "metadata": {},
     "output_type": "execute_result"
    }
   ],
   "source": [
    "#top 20 users based on count of orders placed.\n",
    "\n",
    "a = list(df['UserId'].value_counts())\n",
    "b = list(df['UserId'].unique())\n",
    "top_20_Users = pd.DataFrame(list(zip(b[0:21],a[0:21])),columns =['UserID', 'Count'])\n",
    "top_20_Users"
   ]
  },
  {
   "cell_type": "code",
   "execution_count": null,
   "id": "201d65e9-d5fe-4e62-833a-a0d97babd375",
   "metadata": {},
   "outputs": [],
   "source": [
    "Number of Unique Products"
   ]
  },
  {
   "cell_type": "code",
   "execution_count": 29,
   "id": "5b7df0f0-b985-434b-9545-b556be1fbaad",
   "metadata": {},
   "outputs": [
    {
     "name": "stdout",
     "output_type": "stream",
     "text": [
      "Number of unique products 249274\n"
     ]
    }
   ],
   "source": [
    "print('Number of unique products', len(df['ProductId'].unique()))"
   ]
  },
  {
   "cell_type": "code",
   "execution_count": null,
   "id": "3e3752d2-6969-4caf-a482-1c44f108b9b4",
   "metadata": {},
   "outputs": [],
   "source": [
    "Different types of Ratings"
   ]
  },
  {
   "cell_type": "code",
   "execution_count": 30,
   "id": "417567cb-5669-45a1-85a8-5e10360c4fbe",
   "metadata": {},
   "outputs": [
    {
     "name": "stdout",
     "output_type": "stream",
     "text": [
      "Unique Ratings [5. 3. 4. 1. 2.]\n"
     ]
    }
   ],
   "source": [
    "print('Unique Ratings',df['Rating'].unique())"
   ]
  },
  {
   "cell_type": "code",
   "execution_count": null,
   "id": "f1ed1596-c353-43cd-a969-e9e6d89f0d18",
   "metadata": {},
   "outputs": [],
   "source": [
    "Number of products with good ratings"
   ]
  },
  {
   "cell_type": "code",
   "execution_count": 32,
   "id": "4652c7aa-f8b8-40c7-b7d2-f9f5df22bdb9",
   "metadata": {},
   "outputs": [
    {
     "name": "stdout",
     "output_type": "stream",
     "text": [
      "Number of unique products rated high 220746\n"
     ]
    }
   ],
   "source": [
    "max_ratings1 = df[df['Rating'] >= 4.0]\n",
    "print('Number of unique products rated high',len(max_ratings1['ProductId'].unique()))"
   ]
  },
  {
   "cell_type": "code",
   "execution_count": null,
   "id": "c051a70c-0972-4c8d-bcb4-81dfa3a5fe61",
   "metadata": {},
   "outputs": [],
   "source": [
    "MODEL PREPARATION"
   ]
  },
  {
   "cell_type": "code",
   "execution_count": 34,
   "id": "926fc2ee-f59a-40f7-a44d-9177c6601bc3",
   "metadata": {},
   "outputs": [],
   "source": [
    "df.drop('Timestamp',axis=1,inplace=True)"
   ]
  },
  {
   "cell_type": "code",
   "execution_count": 37,
   "id": "1131fda5-e57b-446f-ad6d-fa2cecc87e2d",
   "metadata": {},
   "outputs": [],
   "source": [
    "from sklearn.model_selection import train_test_split\n",
    "\n",
    "train_data, test_data = train_test_split(df, test_size = 0.2, random_state=0)"
   ]
  },
  {
   "cell_type": "code",
   "execution_count": 39,
   "id": "27ee67d2-6c7d-4ac7-94c2-64bc05edd9e8",
   "metadata": {},
   "outputs": [
    {
     "data": {
      "text/html": [
       "<div>\n",
       "<style scoped>\n",
       "    .dataframe tbody tr th:only-of-type {\n",
       "        vertical-align: middle;\n",
       "    }\n",
       "\n",
       "    .dataframe tbody tr th {\n",
       "        vertical-align: top;\n",
       "    }\n",
       "\n",
       "    .dataframe thead th {\n",
       "        text-align: right;\n",
       "    }\n",
       "</style>\n",
       "<table border=\"1\" class=\"dataframe\">\n",
       "  <thead>\n",
       "    <tr style=\"text-align: right;\">\n",
       "      <th></th>\n",
       "      <th>UserId</th>\n",
       "      <th>ProductId</th>\n",
       "      <th>Rating</th>\n",
       "    </tr>\n",
       "  </thead>\n",
       "  <tbody>\n",
       "    <tr>\n",
       "      <th>723411</th>\n",
       "      <td>A23ZJBVZ4OLDJ</td>\n",
       "      <td>B001KNHM4I</td>\n",
       "      <td>3.0</td>\n",
       "    </tr>\n",
       "    <tr>\n",
       "      <th>1472875</th>\n",
       "      <td>A3O52IDYQ4Z66H</td>\n",
       "      <td>B0062U1QC8</td>\n",
       "      <td>4.0</td>\n",
       "    </tr>\n",
       "    <tr>\n",
       "      <th>2000120</th>\n",
       "      <td>A1PDYBT822BHNJ</td>\n",
       "      <td>B00I14O9C2</td>\n",
       "      <td>5.0</td>\n",
       "    </tr>\n",
       "    <tr>\n",
       "      <th>2014061</th>\n",
       "      <td>A14F5W1N7CZDVW</td>\n",
       "      <td>B00JDTFBR6</td>\n",
       "      <td>5.0</td>\n",
       "    </tr>\n",
       "    <tr>\n",
       "      <th>1076951</th>\n",
       "      <td>A2EPK0CT24CZHS</td>\n",
       "      <td>B003O3C06M</td>\n",
       "      <td>4.0</td>\n",
       "    </tr>\n",
       "  </tbody>\n",
       "</table>\n",
       "</div>"
      ],
      "text/plain": [
       "                 UserId   ProductId  Rating\n",
       "723411    A23ZJBVZ4OLDJ  B001KNHM4I     3.0\n",
       "1472875  A3O52IDYQ4Z66H  B0062U1QC8     4.0\n",
       "2000120  A1PDYBT822BHNJ  B00I14O9C2     5.0\n",
       "2014061  A14F5W1N7CZDVW  B00JDTFBR6     5.0\n",
       "1076951  A2EPK0CT24CZHS  B003O3C06M     4.0"
      ]
     },
     "execution_count": 39,
     "metadata": {},
     "output_type": "execute_result"
    }
   ],
   "source": [
    "test_data.head()"
   ]
  },
  {
   "cell_type": "code",
   "execution_count": 101,
   "id": "786e1230-b81a-4e54-9810-59a0e8cf9d4d",
   "metadata": {},
   "outputs": [
    {
     "data": {
      "text/html": [
       "<div>\n",
       "<style scoped>\n",
       "    .dataframe tbody tr th:only-of-type {\n",
       "        vertical-align: middle;\n",
       "    }\n",
       "\n",
       "    .dataframe tbody tr th {\n",
       "        vertical-align: top;\n",
       "    }\n",
       "\n",
       "    .dataframe thead th {\n",
       "        text-align: right;\n",
       "    }\n",
       "</style>\n",
       "<table border=\"1\" class=\"dataframe\">\n",
       "  <thead>\n",
       "    <tr style=\"text-align: right;\">\n",
       "      <th></th>\n",
       "      <th>UserId</th>\n",
       "      <th>ProductId</th>\n",
       "      <th>Rating</th>\n",
       "    </tr>\n",
       "  </thead>\n",
       "  <tbody>\n",
       "    <tr>\n",
       "      <th>1820811</th>\n",
       "      <td>A3T41HVBC1PSCO</td>\n",
       "      <td>B00B1OOZU0</td>\n",
       "      <td>5.0</td>\n",
       "    </tr>\n",
       "    <tr>\n",
       "      <th>1541414</th>\n",
       "      <td>A24Y7P9O9LU6TH</td>\n",
       "      <td>B006Z9ACMG</td>\n",
       "      <td>5.0</td>\n",
       "    </tr>\n",
       "    <tr>\n",
       "      <th>783039</th>\n",
       "      <td>A1F7YU6O5RU432</td>\n",
       "      <td>B001T8MD8Y</td>\n",
       "      <td>5.0</td>\n",
       "    </tr>\n",
       "    <tr>\n",
       "      <th>1699677</th>\n",
       "      <td>A1HCJ5CDLNWJPJ</td>\n",
       "      <td>B008U4AR3I</td>\n",
       "      <td>5.0</td>\n",
       "    </tr>\n",
       "    <tr>\n",
       "      <th>787779</th>\n",
       "      <td>APDELNTXEZAX4</td>\n",
       "      <td>B001TXFMD2</td>\n",
       "      <td>4.0</td>\n",
       "    </tr>\n",
       "  </tbody>\n",
       "</table>\n",
       "</div>"
      ],
      "text/plain": [
       "                 UserId   ProductId  Rating\n",
       "1820811  A3T41HVBC1PSCO  B00B1OOZU0     5.0\n",
       "1541414  A24Y7P9O9LU6TH  B006Z9ACMG     5.0\n",
       "783039   A1F7YU6O5RU432  B001T8MD8Y     5.0\n",
       "1699677  A1HCJ5CDLNWJPJ  B008U4AR3I     5.0\n",
       "787779    APDELNTXEZAX4  B001TXFMD2     4.0"
      ]
     },
     "execution_count": 101,
     "metadata": {},
     "output_type": "execute_result"
    }
   ],
   "source": [
    "train_data.head()"
   ]
  },
  {
   "cell_type": "code",
   "execution_count": null,
   "id": "30adab44-3f39-4a9b-86f9-f47b49ad6a1e",
   "metadata": {},
   "outputs": [],
   "source": [
    "MODEL 1: POPULARITY BASED RECOMMENDER MODEL"
   ]
  },
  {
   "cell_type": "code",
   "execution_count": 103,
   "id": "9803d400-3a33-433d-9f82-073e75054b50",
   "metadata": {},
   "outputs": [],
   "source": [
    "train_data_grouped = train_data.groupby('ProductId').mean(numeric_only=True).reset_index()"
   ]
  },
  {
   "cell_type": "code",
   "execution_count": 105,
   "id": "191ec334-673c-44fb-b719-f5b51d18fa21",
   "metadata": {},
   "outputs": [
    {
     "data": {
      "text/html": [
       "<div>\n",
       "<style scoped>\n",
       "    .dataframe tbody tr th:only-of-type {\n",
       "        vertical-align: middle;\n",
       "    }\n",
       "\n",
       "    .dataframe tbody tr th {\n",
       "        vertical-align: top;\n",
       "    }\n",
       "\n",
       "    .dataframe thead th {\n",
       "        text-align: right;\n",
       "    }\n",
       "</style>\n",
       "<table border=\"1\" class=\"dataframe\">\n",
       "  <thead>\n",
       "    <tr style=\"text-align: right;\">\n",
       "      <th></th>\n",
       "      <th>ProductId</th>\n",
       "      <th>Rating</th>\n",
       "    </tr>\n",
       "  </thead>\n",
       "  <tbody>\n",
       "    <tr>\n",
       "      <th>0</th>\n",
       "      <td>0558925278</td>\n",
       "      <td>3.0</td>\n",
       "    </tr>\n",
       "    <tr>\n",
       "      <th>1</th>\n",
       "      <td>0733001998</td>\n",
       "      <td>4.0</td>\n",
       "    </tr>\n",
       "    <tr>\n",
       "      <th>2</th>\n",
       "      <td>0737104473</td>\n",
       "      <td>1.0</td>\n",
       "    </tr>\n",
       "    <tr>\n",
       "      <th>3</th>\n",
       "      <td>0762451459</td>\n",
       "      <td>5.0</td>\n",
       "    </tr>\n",
       "    <tr>\n",
       "      <th>4</th>\n",
       "      <td>1304139220</td>\n",
       "      <td>5.0</td>\n",
       "    </tr>\n",
       "  </tbody>\n",
       "</table>\n",
       "</div>"
      ],
      "text/plain": [
       "    ProductId  Rating\n",
       "0  0558925278     3.0\n",
       "1  0733001998     4.0\n",
       "2  0737104473     1.0\n",
       "3  0762451459     5.0\n",
       "4  1304139220     5.0"
      ]
     },
     "execution_count": 105,
     "metadata": {},
     "output_type": "execute_result"
    }
   ],
   "source": [
    "train_data_grouped.head()"
   ]
  },
  {
   "cell_type": "code",
   "execution_count": 107,
   "id": "1ad53bd1-51cf-419c-a612-55a0bb90a340",
   "metadata": {},
   "outputs": [],
   "source": [
    "train_data_sort = train_data_grouped.sort_values(['Rating', 'ProductId'], ascending=False)"
   ]
  },
  {
   "cell_type": "code",
   "execution_count": 109,
   "id": "faafe193-626b-4b57-9f2f-d0cd3a12abda",
   "metadata": {},
   "outputs": [
    {
     "data": {
      "text/html": [
       "<div>\n",
       "<style scoped>\n",
       "    .dataframe tbody tr th:only-of-type {\n",
       "        vertical-align: middle;\n",
       "    }\n",
       "\n",
       "    .dataframe tbody tr th {\n",
       "        vertical-align: top;\n",
       "    }\n",
       "\n",
       "    .dataframe thead th {\n",
       "        text-align: right;\n",
       "    }\n",
       "</style>\n",
       "<table border=\"1\" class=\"dataframe\">\n",
       "  <thead>\n",
       "    <tr style=\"text-align: right;\">\n",
       "      <th></th>\n",
       "      <th>ProductId</th>\n",
       "      <th>Rating</th>\n",
       "    </tr>\n",
       "  </thead>\n",
       "  <tbody>\n",
       "    <tr>\n",
       "      <th>226740</th>\n",
       "      <td>B00LU0LTOU</td>\n",
       "      <td>5.0</td>\n",
       "    </tr>\n",
       "    <tr>\n",
       "      <th>226739</th>\n",
       "      <td>B00LPVG6V0</td>\n",
       "      <td>5.0</td>\n",
       "    </tr>\n",
       "    <tr>\n",
       "      <th>226738</th>\n",
       "      <td>B00LP2YB8E</td>\n",
       "      <td>5.0</td>\n",
       "    </tr>\n",
       "    <tr>\n",
       "      <th>226737</th>\n",
       "      <td>B00LOS7MEE</td>\n",
       "      <td>5.0</td>\n",
       "    </tr>\n",
       "    <tr>\n",
       "      <th>226736</th>\n",
       "      <td>B00LORWRJA</td>\n",
       "      <td>5.0</td>\n",
       "    </tr>\n",
       "  </tbody>\n",
       "</table>\n",
       "</div>"
      ],
      "text/plain": [
       "         ProductId  Rating\n",
       "226740  B00LU0LTOU     5.0\n",
       "226739  B00LPVG6V0     5.0\n",
       "226738  B00LP2YB8E     5.0\n",
       "226737  B00LOS7MEE     5.0\n",
       "226736  B00LORWRJA     5.0"
      ]
     },
     "execution_count": 109,
     "metadata": {},
     "output_type": "execute_result"
    }
   ],
   "source": [
    "train_data_sort.head()"
   ]
  },
  {
   "cell_type": "code",
   "execution_count": 111,
   "id": "8a0e2646-08a5-4281-baee-3d01b53ec917",
   "metadata": {},
   "outputs": [
    {
     "data": {
      "text/plain": [
       "ProductId\n",
       "B001MA0QY2    5978\n",
       "B0009V1YR8    2266\n",
       "B0043OYFKU    1998\n",
       "B0000YUXI0    1711\n",
       "B003V265QW    1704\n",
       "B000ZMBSPE    1649\n",
       "B003BQ6QXK    1555\n",
       "B004OHQR1Q    1505\n",
       "B00121UVU0    1457\n",
       "B000FS05VG    1266\n",
       "Name: Rating, dtype: int64"
      ]
     },
     "execution_count": 111,
     "metadata": {},
     "output_type": "execute_result"
    }
   ],
   "source": [
    "train_data.groupby('ProductId')['Rating'].count().sort_values(ascending=False).head(10)"
   ]
  },
  {
   "cell_type": "code",
   "execution_count": 113,
   "id": "98d2c6dc-a8ed-4fab-bb79-6bf357dfb092",
   "metadata": {},
   "outputs": [],
   "source": [
    "ratings_mean_count = pd.DataFrame(train_data.groupby('ProductId')['Rating'].mean())"
   ]
  },
  {
   "cell_type": "code",
   "execution_count": 115,
   "id": "64a5ef82-83ea-482a-9a69-798a98fe918e",
   "metadata": {},
   "outputs": [],
   "source": [
    "ratings_mean_count['rating_counts'] = pd.DataFrame(train_data.groupby('ProductId')['Rating'].count())"
   ]
  },
  {
   "cell_type": "code",
   "execution_count": 117,
   "id": "fa3550b4-798a-4230-ad46-785801d5e557",
   "metadata": {},
   "outputs": [
    {
     "data": {
      "text/html": [
       "<div>\n",
       "<style scoped>\n",
       "    .dataframe tbody tr th:only-of-type {\n",
       "        vertical-align: middle;\n",
       "    }\n",
       "\n",
       "    .dataframe tbody tr th {\n",
       "        vertical-align: top;\n",
       "    }\n",
       "\n",
       "    .dataframe thead th {\n",
       "        text-align: right;\n",
       "    }\n",
       "</style>\n",
       "<table border=\"1\" class=\"dataframe\">\n",
       "  <thead>\n",
       "    <tr style=\"text-align: right;\">\n",
       "      <th></th>\n",
       "      <th>Rating</th>\n",
       "      <th>rating_counts</th>\n",
       "    </tr>\n",
       "    <tr>\n",
       "      <th>ProductId</th>\n",
       "      <th></th>\n",
       "      <th></th>\n",
       "    </tr>\n",
       "  </thead>\n",
       "  <tbody>\n",
       "    <tr>\n",
       "      <th>0558925278</th>\n",
       "      <td>3.0</td>\n",
       "      <td>1</td>\n",
       "    </tr>\n",
       "    <tr>\n",
       "      <th>0733001998</th>\n",
       "      <td>4.0</td>\n",
       "      <td>1</td>\n",
       "    </tr>\n",
       "    <tr>\n",
       "      <th>0737104473</th>\n",
       "      <td>1.0</td>\n",
       "      <td>1</td>\n",
       "    </tr>\n",
       "    <tr>\n",
       "      <th>0762451459</th>\n",
       "      <td>5.0</td>\n",
       "      <td>1</td>\n",
       "    </tr>\n",
       "    <tr>\n",
       "      <th>1304139220</th>\n",
       "      <td>5.0</td>\n",
       "      <td>1</td>\n",
       "    </tr>\n",
       "  </tbody>\n",
       "</table>\n",
       "</div>"
      ],
      "text/plain": [
       "            Rating  rating_counts\n",
       "ProductId                        \n",
       "0558925278     3.0              1\n",
       "0733001998     4.0              1\n",
       "0737104473     1.0              1\n",
       "0762451459     5.0              1\n",
       "1304139220     5.0              1"
      ]
     },
     "execution_count": 117,
     "metadata": {},
     "output_type": "execute_result"
    }
   ],
   "source": [
    "ratings_mean_count.head()"
   ]
  },
  {
   "cell_type": "code",
   "execution_count": 119,
   "id": "b3c24957-91c3-48fd-be48-3a094be43a4b",
   "metadata": {},
   "outputs": [],
   "source": [
    "pred_df = test_data[['UserId', 'ProductId', 'Rating']]"
   ]
  },
  {
   "cell_type": "code",
   "execution_count": 121,
   "id": "56aa5e7f-14e4-4dd0-986a-8b024598c180",
   "metadata": {},
   "outputs": [
    {
     "data": {
      "text/html": [
       "<div>\n",
       "<style scoped>\n",
       "    .dataframe tbody tr th:only-of-type {\n",
       "        vertical-align: middle;\n",
       "    }\n",
       "\n",
       "    .dataframe tbody tr th {\n",
       "        vertical-align: top;\n",
       "    }\n",
       "\n",
       "    .dataframe thead th {\n",
       "        text-align: right;\n",
       "    }\n",
       "</style>\n",
       "<table border=\"1\" class=\"dataframe\">\n",
       "  <thead>\n",
       "    <tr style=\"text-align: right;\">\n",
       "      <th></th>\n",
       "      <th>UserId</th>\n",
       "      <th>ProductId</th>\n",
       "      <th>Rating</th>\n",
       "    </tr>\n",
       "  </thead>\n",
       "  <tbody>\n",
       "    <tr>\n",
       "      <th>723411</th>\n",
       "      <td>A23ZJBVZ4OLDJ</td>\n",
       "      <td>B001KNHM4I</td>\n",
       "      <td>3.0</td>\n",
       "    </tr>\n",
       "    <tr>\n",
       "      <th>1472875</th>\n",
       "      <td>A3O52IDYQ4Z66H</td>\n",
       "      <td>B0062U1QC8</td>\n",
       "      <td>4.0</td>\n",
       "    </tr>\n",
       "    <tr>\n",
       "      <th>2000120</th>\n",
       "      <td>A1PDYBT822BHNJ</td>\n",
       "      <td>B00I14O9C2</td>\n",
       "      <td>5.0</td>\n",
       "    </tr>\n",
       "    <tr>\n",
       "      <th>2014061</th>\n",
       "      <td>A14F5W1N7CZDVW</td>\n",
       "      <td>B00JDTFBR6</td>\n",
       "      <td>5.0</td>\n",
       "    </tr>\n",
       "    <tr>\n",
       "      <th>1076951</th>\n",
       "      <td>A2EPK0CT24CZHS</td>\n",
       "      <td>B003O3C06M</td>\n",
       "      <td>4.0</td>\n",
       "    </tr>\n",
       "  </tbody>\n",
       "</table>\n",
       "</div>"
      ],
      "text/plain": [
       "                 UserId   ProductId  Rating\n",
       "723411    A23ZJBVZ4OLDJ  B001KNHM4I     3.0\n",
       "1472875  A3O52IDYQ4Z66H  B0062U1QC8     4.0\n",
       "2000120  A1PDYBT822BHNJ  B00I14O9C2     5.0\n",
       "2014061  A14F5W1N7CZDVW  B00JDTFBR6     5.0\n",
       "1076951  A2EPK0CT24CZHS  B003O3C06M     4.0"
      ]
     },
     "execution_count": 121,
     "metadata": {},
     "output_type": "execute_result"
    }
   ],
   "source": [
    "pred_df.head()"
   ]
  },
  {
   "cell_type": "code",
   "execution_count": 123,
   "id": "e1d83200-dad2-4827-9077-4b4caa7d3791",
   "metadata": {},
   "outputs": [],
   "source": [
    "pred_df.rename(columns = {'Rating' : 'true_ratings'}, inplace=True)"
   ]
  },
  {
   "cell_type": "code",
   "execution_count": 125,
   "id": "138a76f3-c697-4a9e-8a6d-07224947ab29",
   "metadata": {},
   "outputs": [
    {
     "data": {
      "text/html": [
       "<div>\n",
       "<style scoped>\n",
       "    .dataframe tbody tr th:only-of-type {\n",
       "        vertical-align: middle;\n",
       "    }\n",
       "\n",
       "    .dataframe tbody tr th {\n",
       "        vertical-align: top;\n",
       "    }\n",
       "\n",
       "    .dataframe thead th {\n",
       "        text-align: right;\n",
       "    }\n",
       "</style>\n",
       "<table border=\"1\" class=\"dataframe\">\n",
       "  <thead>\n",
       "    <tr style=\"text-align: right;\">\n",
       "      <th></th>\n",
       "      <th>UserId</th>\n",
       "      <th>ProductId</th>\n",
       "      <th>true_ratings</th>\n",
       "    </tr>\n",
       "  </thead>\n",
       "  <tbody>\n",
       "    <tr>\n",
       "      <th>723411</th>\n",
       "      <td>A23ZJBVZ4OLDJ</td>\n",
       "      <td>B001KNHM4I</td>\n",
       "      <td>3.0</td>\n",
       "    </tr>\n",
       "    <tr>\n",
       "      <th>1472875</th>\n",
       "      <td>A3O52IDYQ4Z66H</td>\n",
       "      <td>B0062U1QC8</td>\n",
       "      <td>4.0</td>\n",
       "    </tr>\n",
       "    <tr>\n",
       "      <th>2000120</th>\n",
       "      <td>A1PDYBT822BHNJ</td>\n",
       "      <td>B00I14O9C2</td>\n",
       "      <td>5.0</td>\n",
       "    </tr>\n",
       "    <tr>\n",
       "      <th>2014061</th>\n",
       "      <td>A14F5W1N7CZDVW</td>\n",
       "      <td>B00JDTFBR6</td>\n",
       "      <td>5.0</td>\n",
       "    </tr>\n",
       "    <tr>\n",
       "      <th>1076951</th>\n",
       "      <td>A2EPK0CT24CZHS</td>\n",
       "      <td>B003O3C06M</td>\n",
       "      <td>4.0</td>\n",
       "    </tr>\n",
       "  </tbody>\n",
       "</table>\n",
       "</div>"
      ],
      "text/plain": [
       "                 UserId   ProductId  true_ratings\n",
       "723411    A23ZJBVZ4OLDJ  B001KNHM4I           3.0\n",
       "1472875  A3O52IDYQ4Z66H  B0062U1QC8           4.0\n",
       "2000120  A1PDYBT822BHNJ  B00I14O9C2           5.0\n",
       "2014061  A14F5W1N7CZDVW  B00JDTFBR6           5.0\n",
       "1076951  A2EPK0CT24CZHS  B003O3C06M           4.0"
      ]
     },
     "execution_count": 125,
     "metadata": {},
     "output_type": "execute_result"
    }
   ],
   "source": [
    "pred_df.head()"
   ]
  },
  {
   "cell_type": "code",
   "execution_count": 127,
   "id": "e8205ce9-c0b5-45be-9815-0a1819debff9",
   "metadata": {},
   "outputs": [],
   "source": [
    "pred_df = pred_df.merge(train_data_sort, left_on='ProductId', right_on = 'ProductId')"
   ]
  },
  {
   "cell_type": "code",
   "execution_count": 129,
   "id": "173a3baa-a376-4b77-8325-4f8b5e48487c",
   "metadata": {},
   "outputs": [],
   "source": [
    "pred_df.rename(columns = {'Rating' : 'predicted_ratings'}, inplace = True)"
   ]
  },
  {
   "cell_type": "code",
   "execution_count": null,
   "id": "5b7963b7-60fc-468e-994d-e82b733abacd",
   "metadata": {},
   "outputs": [],
   "source": [
    "POPULARITY BASED MODEL"
   ]
  },
  {
   "cell_type": "code",
   "execution_count": 131,
   "id": "fd20dc45-02a8-4ebe-982d-ac40448e1f2a",
   "metadata": {},
   "outputs": [
    {
     "data": {
      "text/html": [
       "<div>\n",
       "<style scoped>\n",
       "    .dataframe tbody tr th:only-of-type {\n",
       "        vertical-align: middle;\n",
       "    }\n",
       "\n",
       "    .dataframe tbody tr th {\n",
       "        vertical-align: top;\n",
       "    }\n",
       "\n",
       "    .dataframe thead th {\n",
       "        text-align: right;\n",
       "    }\n",
       "</style>\n",
       "<table border=\"1\" class=\"dataframe\">\n",
       "  <thead>\n",
       "    <tr style=\"text-align: right;\">\n",
       "      <th></th>\n",
       "      <th>UserId</th>\n",
       "      <th>ProductId</th>\n",
       "      <th>true_ratings</th>\n",
       "      <th>predicted_ratings</th>\n",
       "    </tr>\n",
       "  </thead>\n",
       "  <tbody>\n",
       "    <tr>\n",
       "      <th>0</th>\n",
       "      <td>A23ZJBVZ4OLDJ</td>\n",
       "      <td>B001KNHM4I</td>\n",
       "      <td>3.0</td>\n",
       "      <td>4.575758</td>\n",
       "    </tr>\n",
       "    <tr>\n",
       "      <th>1</th>\n",
       "      <td>A3O52IDYQ4Z66H</td>\n",
       "      <td>B0062U1QC8</td>\n",
       "      <td>4.0</td>\n",
       "      <td>4.750000</td>\n",
       "    </tr>\n",
       "    <tr>\n",
       "      <th>2</th>\n",
       "      <td>A1PDYBT822BHNJ</td>\n",
       "      <td>B00I14O9C2</td>\n",
       "      <td>5.0</td>\n",
       "      <td>4.285714</td>\n",
       "    </tr>\n",
       "    <tr>\n",
       "      <th>3</th>\n",
       "      <td>A14F5W1N7CZDVW</td>\n",
       "      <td>B00JDTFBR6</td>\n",
       "      <td>5.0</td>\n",
       "      <td>4.418605</td>\n",
       "    </tr>\n",
       "    <tr>\n",
       "      <th>4</th>\n",
       "      <td>A2EPK0CT24CZHS</td>\n",
       "      <td>B003O3C06M</td>\n",
       "      <td>4.0</td>\n",
       "      <td>4.727273</td>\n",
       "    </tr>\n",
       "  </tbody>\n",
       "</table>\n",
       "</div>"
      ],
      "text/plain": [
       "           UserId   ProductId  true_ratings  predicted_ratings\n",
       "0   A23ZJBVZ4OLDJ  B001KNHM4I           3.0           4.575758\n",
       "1  A3O52IDYQ4Z66H  B0062U1QC8           4.0           4.750000\n",
       "2  A1PDYBT822BHNJ  B00I14O9C2           5.0           4.285714\n",
       "3  A14F5W1N7CZDVW  B00JDTFBR6           5.0           4.418605\n",
       "4  A2EPK0CT24CZHS  B003O3C06M           4.0           4.727273"
      ]
     },
     "execution_count": 131,
     "metadata": {},
     "output_type": "execute_result"
    }
   ],
   "source": [
    "pred_df.head()"
   ]
  },
  {
   "cell_type": "code",
   "execution_count": 133,
   "id": "f948820d-7048-4daa-ae05-b6950e0600de",
   "metadata": {},
   "outputs": [
    {
     "name": "stdout",
     "output_type": "stream",
     "text": [
      "The RMSE value for Recommender model is 1.3078273121694615\n"
     ]
    }
   ],
   "source": [
    "import sklearn.metrics as metric\n",
    "\n",
    "from math import sqrt\n",
    "\n",
    "MSE = metric.mean_squared_error(pred_df['true_ratings'], pred_df['predicted_ratings'])\n",
    "\n",
    "print('The RMSE value for Recommender model is', sqrt(MSE))"
   ]
  },
  {
   "cell_type": "code",
   "execution_count": null,
   "id": "657633f0-8df6-4641-a0ec-118954c5c3ab",
   "metadata": {},
   "outputs": [],
   "source": [
    "MODEL 2: COLLABORATIVE FILTERING USING SURPRISE LIBRARY"
   ]
  },
  {
   "cell_type": "code",
   "execution_count": 135,
   "id": "cae746a7-8f1f-479d-b03b-94b85781699e",
   "metadata": {},
   "outputs": [
    {
     "name": "stdout",
     "output_type": "stream",
     "text": [
      "Collecting surprise\n",
      "  Downloading surprise-0.1-py2.py3-none-any.whl.metadata (327 bytes)\n",
      "Collecting scikit-surprise (from surprise)\n",
      "  Downloading scikit_surprise-1.1.4.tar.gz (154 kB)\n",
      "\u001b[2K     \u001b[90m━━━━━━━━━━━━━━━━━━━━━━━━━━━━━━━━━━━━━━━\u001b[0m \u001b[32m154.4/154.4 kB\u001b[0m \u001b[31m1.4 MB/s\u001b[0m eta \u001b[36m0:00:00\u001b[0ma \u001b[36m0:00:01\u001b[0m\n",
      "\u001b[?25h  Installing build dependencies ... \u001b[?25ldone\n",
      "\u001b[?25h  Getting requirements to build wheel ... \u001b[?25ldone\n",
      "\u001b[?25h  Preparing metadata (pyproject.toml) ... \u001b[?25ldone\n",
      "\u001b[?25hRequirement already satisfied: joblib>=1.2.0 in /opt/anaconda3/lib/python3.12/site-packages (from scikit-surprise->surprise) (1.4.2)\n",
      "Requirement already satisfied: numpy>=1.19.5 in /opt/anaconda3/lib/python3.12/site-packages (from scikit-surprise->surprise) (1.26.4)\n",
      "Requirement already satisfied: scipy>=1.6.0 in /opt/anaconda3/lib/python3.12/site-packages (from scikit-surprise->surprise) (1.13.1)\n",
      "Downloading surprise-0.1-py2.py3-none-any.whl (1.8 kB)\n",
      "Building wheels for collected packages: scikit-surprise\n",
      "  Building wheel for scikit-surprise (pyproject.toml) ... \u001b[?25ldone\n",
      "\u001b[?25h  Created wheel for scikit-surprise: filename=scikit_surprise-1.1.4-cp312-cp312-macosx_11_0_arm64.whl size=485267 sha256=6cf237faf9810d291ad62f0c67da4edf7efb6d243680ace9ef9a7884640c442a\n",
      "  Stored in directory: /Users/deveshriiii/Library/Caches/pip/wheels/75/fa/bc/739bc2cb1fbaab6061854e6cfbb81a0ae52c92a502a7fa454b\n",
      "Successfully built scikit-surprise\n",
      "Installing collected packages: scikit-surprise, surprise\n",
      "Successfully installed scikit-surprise-1.1.4 surprise-0.1\n"
     ]
    }
   ],
   "source": [
    "!pip install surprise"
   ]
  },
  {
   "cell_type": "code",
   "execution_count": 137,
   "id": "c84ac2b6-d069-4f26-8741-b2070ce7856d",
   "metadata": {},
   "outputs": [],
   "source": [
    "import surprise\n",
    "from surprise import KNNWithMeans\n",
    "from surprise.model_selection import GridSearchCV\n",
    "from surprise import Dataset\n",
    "from surprise import accuracy\n",
    "from surprise import Reader\n",
    "from surprise.model_selection import train_test_split"
   ]
  },
  {
   "cell_type": "code",
   "execution_count": 139,
   "id": "3c35e656-e02a-4f88-9785-325d6d0b140f",
   "metadata": {},
   "outputs": [],
   "source": [
    "from surprise import KNNBasic, SVD, NormalPredictor, KNNBaseline,KNNWithMeans, KNNWithZScore, BaselineOnly, CoClustering, Reader, dataset, accuracy"
   ]
  },
  {
   "cell_type": "code",
   "execution_count": 141,
   "id": "6c24df0d-5c02-4866-9b70-43677ba9c8fc",
   "metadata": {},
   "outputs": [],
   "source": [
    "userID = df.groupby('UserId').count()"
   ]
  },
  {
   "cell_type": "code",
   "execution_count": 143,
   "id": "789bafce-49ab-4fbe-88b8-cd1d2ac39b60",
   "metadata": {},
   "outputs": [],
   "source": [
    "top_user = userID[userID['Rating'] >= 50].index "
   ]
  },
  {
   "cell_type": "code",
   "execution_count": 145,
   "id": "2a6f6ebb-70eb-415a-89fe-a5222d473fef",
   "metadata": {},
   "outputs": [],
   "source": [
    "topuser_ratings_df = df[df['UserId'].isin(top_user)]"
   ]
  },
  {
   "cell_type": "code",
   "execution_count": 147,
   "id": "f1be0220-c795-435e-85eb-271fe10826b1",
   "metadata": {},
   "outputs": [
    {
     "data": {
      "text/html": [
       "<div>\n",
       "<style scoped>\n",
       "    .dataframe tbody tr th:only-of-type {\n",
       "        vertical-align: middle;\n",
       "    }\n",
       "\n",
       "    .dataframe tbody tr th {\n",
       "        vertical-align: top;\n",
       "    }\n",
       "\n",
       "    .dataframe thead th {\n",
       "        text-align: right;\n",
       "    }\n",
       "</style>\n",
       "<table border=\"1\" class=\"dataframe\">\n",
       "  <thead>\n",
       "    <tr style=\"text-align: right;\">\n",
       "      <th></th>\n",
       "      <th>UserId</th>\n",
       "      <th>ProductId</th>\n",
       "      <th>Rating</th>\n",
       "    </tr>\n",
       "  </thead>\n",
       "  <tbody>\n",
       "    <tr>\n",
       "      <th>5</th>\n",
       "      <td>AKJHHD5VEH7VG</td>\n",
       "      <td>0762451459</td>\n",
       "      <td>5.0</td>\n",
       "    </tr>\n",
       "    <tr>\n",
       "      <th>1779178</th>\n",
       "      <td>ACZ94JB8BFMJ9</td>\n",
       "      <td>B00A9MKPT0</td>\n",
       "      <td>5.0</td>\n",
       "    </tr>\n",
       "    <tr>\n",
       "      <th>1778023</th>\n",
       "      <td>A10G136JEISLVR</td>\n",
       "      <td>B00A8I8AVA</td>\n",
       "      <td>5.0</td>\n",
       "    </tr>\n",
       "    <tr>\n",
       "      <th>1778730</th>\n",
       "      <td>A1Z54EM24Y40LL</td>\n",
       "      <td>B00A8S6HM4</td>\n",
       "      <td>5.0</td>\n",
       "    </tr>\n",
       "    <tr>\n",
       "      <th>1778920</th>\n",
       "      <td>A2K7V3G4598QRF</td>\n",
       "      <td>B00A93VUEI</td>\n",
       "      <td>5.0</td>\n",
       "    </tr>\n",
       "  </tbody>\n",
       "</table>\n",
       "</div>"
      ],
      "text/plain": [
       "                 UserId   ProductId  Rating\n",
       "5         AKJHHD5VEH7VG  0762451459     5.0\n",
       "1779178   ACZ94JB8BFMJ9  B00A9MKPT0     5.0\n",
       "1778023  A10G136JEISLVR  B00A8I8AVA     5.0\n",
       "1778730  A1Z54EM24Y40LL  B00A8S6HM4     5.0\n",
       "1778920  A2K7V3G4598QRF  B00A93VUEI     5.0"
      ]
     },
     "execution_count": 147,
     "metadata": {},
     "output_type": "execute_result"
    }
   ],
   "source": [
    "topuser_ratings_df.sort_values(by = 'Rating', ascending = False).head()"
   ]
  },
  {
   "cell_type": "code",
   "execution_count": 149,
   "id": "bd456a4b-0ebe-4b50-9ed2-249836220cde",
   "metadata": {},
   "outputs": [],
   "source": [
    "prodID = df.groupby('ProductId').count()"
   ]
  },
  {
   "cell_type": "code",
   "execution_count": 151,
   "id": "048104ed-32f9-497e-a7ae-4cd5294cb497",
   "metadata": {},
   "outputs": [],
   "source": [
    "top_prod = prodID[prodID['Rating'] >= 50].index"
   ]
  },
  {
   "cell_type": "code",
   "execution_count": 153,
   "id": "8cce6211-97cf-4d64-aa23-aea4c5220c54",
   "metadata": {},
   "outputs": [],
   "source": [
    "top_ratings_df = topuser_ratings_df[topuser_ratings_df['ProductId'].isin(top_prod)]"
   ]
  },
  {
   "cell_type": "code",
   "execution_count": 155,
   "id": "d5d4a025-45b0-405d-821b-7cfeea43d756",
   "metadata": {},
   "outputs": [
    {
     "data": {
      "text/html": [
       "<div>\n",
       "<style scoped>\n",
       "    .dataframe tbody tr th:only-of-type {\n",
       "        vertical-align: middle;\n",
       "    }\n",
       "\n",
       "    .dataframe tbody tr th {\n",
       "        vertical-align: top;\n",
       "    }\n",
       "\n",
       "    .dataframe thead th {\n",
       "        text-align: right;\n",
       "    }\n",
       "</style>\n",
       "<table border=\"1\" class=\"dataframe\">\n",
       "  <thead>\n",
       "    <tr style=\"text-align: right;\">\n",
       "      <th></th>\n",
       "      <th>UserId</th>\n",
       "      <th>ProductId</th>\n",
       "      <th>Rating</th>\n",
       "    </tr>\n",
       "  </thead>\n",
       "  <tbody>\n",
       "    <tr>\n",
       "      <th>1717</th>\n",
       "      <td>A2FQZKL2KIZACO</td>\n",
       "      <td>9790790961</td>\n",
       "      <td>5.0</td>\n",
       "    </tr>\n",
       "    <tr>\n",
       "      <th>1436380</th>\n",
       "      <td>A2S7YBFPZX1IGQ</td>\n",
       "      <td>B005OZW3ZG</td>\n",
       "      <td>5.0</td>\n",
       "    </tr>\n",
       "    <tr>\n",
       "      <th>1435690</th>\n",
       "      <td>A1APERZNMEU8PW</td>\n",
       "      <td>B005OZGDO8</td>\n",
       "      <td>5.0</td>\n",
       "    </tr>\n",
       "    <tr>\n",
       "      <th>1435806</th>\n",
       "      <td>A1YVJ2CLK0L2WR</td>\n",
       "      <td>B005OZH88I</td>\n",
       "      <td>5.0</td>\n",
       "    </tr>\n",
       "    <tr>\n",
       "      <th>1435808</th>\n",
       "      <td>ADMPGWBF0BC9W</td>\n",
       "      <td>B005OZH88I</td>\n",
       "      <td>5.0</td>\n",
       "    </tr>\n",
       "  </tbody>\n",
       "</table>\n",
       "</div>"
      ],
      "text/plain": [
       "                 UserId   ProductId  Rating\n",
       "1717     A2FQZKL2KIZACO  9790790961     5.0\n",
       "1436380  A2S7YBFPZX1IGQ  B005OZW3ZG     5.0\n",
       "1435690  A1APERZNMEU8PW  B005OZGDO8     5.0\n",
       "1435806  A1YVJ2CLK0L2WR  B005OZH88I     5.0\n",
       "1435808   ADMPGWBF0BC9W  B005OZH88I     5.0"
      ]
     },
     "execution_count": 155,
     "metadata": {},
     "output_type": "execute_result"
    }
   ],
   "source": [
    "top_ratings_df.sort_values(by='Rating', ascending=False).head()"
   ]
  },
  {
   "cell_type": "code",
   "execution_count": 157,
   "id": "9bf8ed47-d900-4465-a420-5a248919b327",
   "metadata": {},
   "outputs": [
    {
     "data": {
      "text/plain": [
       "(13717, 3)"
      ]
     },
     "execution_count": 157,
     "metadata": {},
     "output_type": "execute_result"
    }
   ],
   "source": [
    "top_ratings_df.shape"
   ]
  },
  {
   "cell_type": "code",
   "execution_count": null,
   "id": "eb28b54f-6f4f-450c-be29-0713ef741776",
   "metadata": {},
   "outputs": [],
   "source": [
    "Conversion to surprise format"
   ]
  },
  {
   "cell_type": "code",
   "execution_count": 159,
   "id": "d57691fb-2ab3-49ba-8d96-d5944cea7b14",
   "metadata": {},
   "outputs": [],
   "source": [
    "reader = Reader(rating_scale=(0.5, 5.0))"
   ]
  },
  {
   "cell_type": "code",
   "execution_count": 161,
   "id": "e705e761-3ff5-4e3c-952f-335a91a2aece",
   "metadata": {},
   "outputs": [],
   "source": [
    "data = Dataset.load_from_df(top_ratings_df[['UserId', 'ProductId', 'Rating']],reader)"
   ]
  },
  {
   "cell_type": "code",
   "execution_count": null,
   "id": "9a53ba75-7012-45a0-a64e-d0dacdc7ec2e",
   "metadata": {},
   "outputs": [],
   "source": [
    "MODEL TRAINING"
   ]
  },
  {
   "cell_type": "code",
   "execution_count": 163,
   "id": "4ed945b7-6dc1-4eaa-8c92-5cf0038d7855",
   "metadata": {},
   "outputs": [],
   "source": [
    "from surprise.model_selection import train_test_split\n",
    "trainset, testset = train_test_split(data, test_size=.3,random_state=0)"
   ]
  },
  {
   "cell_type": "code",
   "execution_count": 165,
   "id": "ece55cab-abd3-4a92-8111-7827f565202a",
   "metadata": {},
   "outputs": [
    {
     "data": {
      "text/plain": [
       "surprise.trainset.Trainset"
      ]
     },
     "execution_count": 165,
     "metadata": {},
     "output_type": "execute_result"
    }
   ],
   "source": [
    "type(trainset)"
   ]
  },
  {
   "cell_type": "code",
   "execution_count": null,
   "id": "63a3979a-3601-4c94-8c3c-86b524f0c9d8",
   "metadata": {},
   "outputs": [],
   "source": [
    "KNN with means"
   ]
  },
  {
   "cell_type": "code",
   "execution_count": 167,
   "id": "5167dea5-b4ca-466d-91f5-4cba7adebf5f",
   "metadata": {},
   "outputs": [
    {
     "name": "stdout",
     "output_type": "stream",
     "text": [
      "Estimating biases using als...\n",
      "Computing the pearson_baseline similarity matrix...\n",
      "Done computing similarity matrix.\n"
     ]
    },
    {
     "data": {
      "text/plain": [
       "<surprise.prediction_algorithms.knns.KNNWithMeans at 0x337cb5e20>"
      ]
     },
     "execution_count": 167,
     "metadata": {},
     "output_type": "execute_result"
    }
   ],
   "source": [
    "model = KNNWithMeans(k=10, min_k=6, sim_options={'name': 'pearson_baseline', 'user_based': True})\n",
    "model.fit(trainset)"
   ]
  },
  {
   "cell_type": "code",
   "execution_count": null,
   "id": "a11722fa-6de4-43c4-bfe7-e2e2867c216d",
   "metadata": {},
   "outputs": [],
   "source": [
    "SVD"
   ]
  },
  {
   "cell_type": "code",
   "execution_count": 171,
   "id": "73ec4add-0c0b-48a7-9f10-1e3517c0047b",
   "metadata": {},
   "outputs": [
    {
     "data": {
      "text/plain": [
       "<surprise.prediction_algorithms.matrix_factorization.SVD at 0x337d5bf20>"
      ]
     },
     "execution_count": 171,
     "metadata": {},
     "output_type": "execute_result"
    }
   ],
   "source": [
    "svd_model = SVD(n_factors=50,reg_all=0.02)\n",
    "svd_model.fit(trainset)"
   ]
  },
  {
   "cell_type": "code",
   "execution_count": null,
   "id": "92baa782-7be6-4785-aebe-f85c8e068ea5",
   "metadata": {},
   "outputs": [],
   "source": [
    "EVALUATION OF ALL MODELS"
   ]
  },
  {
   "cell_type": "code",
   "execution_count": null,
   "id": "b49eb06e-04d5-42e3-89af-fe4a62641e3e",
   "metadata": {},
   "outputs": [],
   "source": [
    "POPULARITY BASED MODEL"
   ]
  },
  {
   "cell_type": "code",
   "execution_count": 173,
   "id": "c90025cc-10ba-4250-892f-3514bc887e7b",
   "metadata": {},
   "outputs": [
    {
     "name": "stdout",
     "output_type": "stream",
     "text": [
      "The RMSE value for Popularity Recommender model is 1.3078273121694615\n"
     ]
    }
   ],
   "source": [
    "MSE = metric.mean_squared_error(pred_df['true_ratings'], pred_df['predicted_ratings'])\n",
    "print('The RMSE value for Popularity Recommender model is', sqrt(MSE))"
   ]
  },
  {
   "cell_type": "code",
   "execution_count": null,
   "id": "9d198dc6-7de7-4dd6-a07d-a6c7252a6d70",
   "metadata": {},
   "outputs": [],
   "source": [
    "COLLABORATIVE BASED FILTERING"
   ]
  },
  {
   "cell_type": "code",
   "execution_count": 175,
   "id": "a16ca0e0-b2e7-4d7e-a18d-076974ef5433",
   "metadata": {},
   "outputs": [
    {
     "name": "stdout",
     "output_type": "stream",
     "text": [
      "4116\n"
     ]
    },
    {
     "data": {
      "text/plain": [
       "list"
      ]
     },
     "execution_count": 175,
     "metadata": {},
     "output_type": "execute_result"
    }
   ],
   "source": [
    "print(len(testset))\n",
    "type(testset)"
   ]
  },
  {
   "cell_type": "code",
   "execution_count": null,
   "id": "62b458a3-ee6a-49e0-ad02-cd383dcba087",
   "metadata": {},
   "outputs": [],
   "source": [
    "KNN WITH MEANS"
   ]
  },
  {
   "cell_type": "code",
   "execution_count": 177,
   "id": "d8731079-0885-41fc-b7dc-f9b202612f9a",
   "metadata": {},
   "outputs": [
    {
     "data": {
      "text/plain": [
       "Prediction(uid='A25C2M3QF9G7OQ', iid='B009YSSLAU', r_ui=4.0, est=4.516699820834101, details={'actual_k': 10, 'was_impossible': False})"
      ]
     },
     "execution_count": 177,
     "metadata": {},
     "output_type": "execute_result"
    }
   ],
   "source": [
    "test_pred = model.test(testset)\n",
    "test_pred[0]"
   ]
  },
  {
   "cell_type": "code",
   "execution_count": 179,
   "id": "1581f025-d221-497d-b139-b5a3cf5c1e5a",
   "metadata": {},
   "outputs": [
    {
     "name": "stdout",
     "output_type": "stream",
     "text": [
      "RMSE: 1.0561\n"
     ]
    },
    {
     "data": {
      "text/plain": [
       "1.0561184327784499"
      ]
     },
     "execution_count": 179,
     "metadata": {},
     "output_type": "execute_result"
    }
   ],
   "source": [
    "accuracy.rmse(test_pred)"
   ]
  },
  {
   "cell_type": "code",
   "execution_count": null,
   "id": "7919601e-c62d-4fd0-ab3d-f1a9da70b9df",
   "metadata": {},
   "outputs": [],
   "source": [
    "SVD"
   ]
  },
  {
   "cell_type": "code",
   "execution_count": 181,
   "id": "78ca6a5c-2720-4955-afb9-7a39ea997333",
   "metadata": {},
   "outputs": [],
   "source": [
    "test_pred = svd_model.test(testset)"
   ]
  },
  {
   "cell_type": "code",
   "execution_count": 183,
   "id": "3c660516-4a09-41db-aaf1-547582eb29aa",
   "metadata": {},
   "outputs": [
    {
     "name": "stdout",
     "output_type": "stream",
     "text": [
      "RMSE: 1.0113\n"
     ]
    },
    {
     "data": {
      "text/plain": [
       "1.0112703996513175"
      ]
     },
     "execution_count": 183,
     "metadata": {},
     "output_type": "execute_result"
    }
   ],
   "source": [
    "accuracy.rmse(test_pred)"
   ]
  },
  {
   "cell_type": "code",
   "execution_count": null,
   "id": "ff2da925-41d1-46d7-8d3b-d3646a9c4e8c",
   "metadata": {},
   "outputs": [],
   "source": [
    "HYPER PARAMETER TUNING OF SVD MODEL"
   ]
  },
  {
   "cell_type": "code",
   "execution_count": 185,
   "id": "be9c384a-e184-4fde-af2b-aab908886fbb",
   "metadata": {},
   "outputs": [],
   "source": [
    "from surprise.model_selection import GridSearchCV\n",
    "\n",
    "param_grid = {'n_factors' : [5,10,15], \"reg_all\":[0.01,0.02]}\n",
    "gs = GridSearchCV(SVD, param_grid, measures=['rmse'], cv=3,refit = True)"
   ]
  },
  {
   "cell_type": "code",
   "execution_count": 187,
   "id": "b0f02c77-f1c6-48e7-8372-d7b4206d3745",
   "metadata": {},
   "outputs": [],
   "source": [
    "gs.fit(data)"
   ]
  },
  {
   "cell_type": "code",
   "execution_count": 189,
   "id": "9399002b-ca10-4518-acf9-1993338d18de",
   "metadata": {},
   "outputs": [
    {
     "data": {
      "text/plain": [
       "{'rmse': {'n_factors': 5, 'reg_all': 0.01}}"
      ]
     },
     "execution_count": 189,
     "metadata": {},
     "output_type": "execute_result"
    }
   ],
   "source": [
    "gs.best_params"
   ]
  },
  {
   "cell_type": "code",
   "execution_count": 191,
   "id": "35594504-0155-4190-a736-41f848ee9e58",
   "metadata": {},
   "outputs": [
    {
     "name": "stdout",
     "output_type": "stream",
     "text": [
      "RMSE: 0.8965\n"
     ]
    },
    {
     "data": {
      "text/plain": [
       "0.8965175001779915"
      ]
     },
     "execution_count": 191,
     "metadata": {},
     "output_type": "execute_result"
    }
   ],
   "source": [
    "gs.test(testset)\n",
    "accuracy.rmse(gs.test(testset))"
   ]
  },
  {
   "cell_type": "code",
   "execution_count": null,
   "id": "6ecd4805-fefd-4d48-a79e-049e31a07863",
   "metadata": {},
   "outputs": [],
   "source": [
    "RECOMMENDING 5 PRODUCTS"
   ]
  },
  {
   "cell_type": "code",
   "execution_count": 193,
   "id": "48d9cdea-c56f-4490-b081-bdf82db8ce51",
   "metadata": {},
   "outputs": [],
   "source": [
    "from collections import defaultdict\n",
    "def get_top_n(predictions, n=5):\n",
    "  \n",
    "    # First map the predictions to each user.\n",
    "    top_n = defaultdict(list)\n",
    "    for uid, iid, true_r, est, _ in predictions:\n",
    "        top_n[uid].append((iid, est))\n",
    "\n",
    "    # Then sort the predictions for each user and retrieve the k highest ones.\n",
    "    for uid, user_ratings in top_n.items():\n",
    "        user_ratings.sort(key=lambda x: x[1], reverse=True)\n",
    "        top_n[uid] = user_ratings[:n]\n",
    "\n",
    "    return top_n"
   ]
  },
  {
   "cell_type": "code",
   "execution_count": 195,
   "id": "6d3ea166-5fa2-4f28-a56d-caa5b959a341",
   "metadata": {},
   "outputs": [],
   "source": [
    "top_n = get_top_n(test_pred, n=5)"
   ]
  },
  {
   "cell_type": "code",
   "execution_count": 197,
   "id": "07c4e957-3d91-4281-a2fe-e396e0986024",
   "metadata": {},
   "outputs": [
    {
     "name": "stdout",
     "output_type": "stream",
     "text": [
      "A25C2M3QF9G7OQ ['B009YSSLAU', 'B00AO4EMKQ', 'B006L6A06Q', 'B00HSNWZKU', 'B00HSNWXVQ']\n",
      "AY3D7DG5L5WCK ['B00GTBZHUW', 'B00AWLB9G6', 'B00A0J09C0', 'B00AAIOP44', 'B00GTBZHCA']\n",
      "A2DPYMNI2HCIOI ['B00014D5O8', 'B008U2Y9BQ', 'B008RVYJS8', 'B0002VQ0WO', 'B0014AX89K']\n",
      "A2Y4S4CNGKF21S ['B00021B8L2', 'B0012UEJ1S', 'B000U0XGME', 'B00069FJUG', 'B003I6O5RC']\n",
      "AYB4ELCS5AM8P ['B004GIM68G', 'B001ECQ4JE', 'B008VSYO5A', 'B00A0J084Y', 'B00AE0790U']\n",
      "A3GPAR4H5Y5OU8 ['B000GUN98O', 'B001ECQ4JE', 'B0030O3VRW', 'B003WN1ELQ', 'B001JQLNNC']\n",
      "A3IOCPLIMYDBCD ['B004YZMKKU', 'B002QXINAS', 'B007E0FQ1W', 'B001GIOW3G', 'B001LF4I8I']\n",
      "ALNFHVS3SC4FV ['B005TI7NPI', 'B004Z209HS', 'B003V21WO2', 'B001ECQ5CA', 'B00GTBZHUW']\n",
      "AQY5XBYSENNZQ ['B00GTBZHUW', 'B006L6A06Q', 'B001U0ONNY', 'B00AE0790U', 'B00GTBZNP6']\n",
      "A3091RP0SPZLMN ['B00AE07FUE', 'B00ALV8EJM', 'B00AE07CTI', 'B00GTC02LA', 'B002MO3CG6']\n",
      "A3AZI828WJN1CD ['B007RTR8UC', 'B006L6A06Q', 'B00A0IWRRG', 'B00AO4EBOI', 'B009VGNYFM']\n",
      "A2XKJ1KX6XUHYP ['B002CML1XE', 'B000I5KCIW', 'B004CDQ73K', 'B0037AO682', 'B006OC431K']\n",
      "A3FBM0RMCMAABV ['B00AWLB9G6', 'B00AWLBACE', 'B0040H00PE', 'B007RTR8UC', 'B00AE0790U']\n",
      "A3IQXED40ZZ2T2 ['B00IP42FBA', 'B00KD73PBQ', 'B004B9C8MO', 'B00IMHN0B4', 'B00IDWP4IA']\n",
      "A16YU3GRGCD95S ['B00ALV8EL0', 'B00AO4EMKQ', 'B00AE07FUE', 'B00ALV8EJM', 'B00AWLB9I4']\n",
      "A33AQPJYH7UUXR ['B00113HO90', 'B0006ZHCK0', 'B004Y5NA1I', 'B001DKRMB6', 'B0031NLHXC']\n",
      "ACN76NFHYL6JK ['B0016B5LAQ', 'B005Z446JC', 'B000Q4B108', 'B002DPUY10']\n",
      "A2V5R832QCSOMX ['B003V264WW', 'B001MA5VUQ', 'B0055Y9AIY', 'B000QUM5LG', 'B0036QQWAC']\n",
      "A3FLMF8FG4VPG8 ['B001B7GJ2E', 'B0009MHJE4', 'B000JIN0OG', 'B000ALDK1A', 'B00080DK86']\n",
      "A1DH3QDZX8Z7GO ['B0089JVDPK', 'B00A0J09C0', 'B000E0K7NQ', 'B00AE07IEM', 'B001S4C91K']\n",
      "A34QKW1Y84EHIT ['B000142JDG', 'B004LV82JU', 'B000TAA9Q6', 'B001T8JLRK']\n",
      "A31RULW0KNYJ5H ['B001ECQ5CA', 'B00AHF1GK6', 'B009YSSLAU', 'B00IP42FBA', 'B00A0IWRU8']\n",
      "A14E70DKB6QPZY ['B000AMHWCW', 'B003TNVSTW', 'B002SV0XYW', 'B000GHYSL4', 'B008BS9Z8G']\n",
      "A2J19U8H5SSFCJ ['B0010XUU9M', 'B00D6EDGYE', 'B0047F9622', 'B007RTR9FQ', 'B00GYB13OQ']\n",
      "A2065HBMYDXJ1S ['B0052BHMOO', 'B004DIXYUI', 'B00A0J084Y', 'B004S9SEWK', 'B00A76CPUA']\n",
      "A3EPHBMU07LZ50 ['B000AO2NXS', 'B001D0ACUE', 'B009FKNGRA', 'B0007CXXYG', 'B00AE07GX0']\n",
      "A3R5GTYQ50QVMD ['B00GTC02LA', 'B00AE07932', 'B00CP0R5LK', 'B00AO4EL34', 'B00AAIOP44']\n",
      "A1W415JP5WEAJK ['B004GIM68G', 'B004D267RG', 'B002MO3CG6', 'B00GTC0E1I', 'B009FKNGRA']\n",
      "A2CZ98V784SRJ0 ['B00AE07BMQ', 'B00CP0R5LK', 'B00AE07BDU', 'B00AE07GX0', 'B0068G8DTA']\n",
      "AAA0TUKS5VBSA ['B00DCNBST4', 'B002TSA90M', 'B0098JU8T2', 'B008VSYO5A', 'B00A0J09C0']\n",
      "AAEVYY0PHQUUL ['B005UL1B34', 'B0058P6S2Q', 'B002DOO1VA', 'B005R3UYEW', 'B002SWAFVM']\n",
      "A12PH6L5QSVTYN ['B001CMT83A', 'B000C1VWCM', 'B002CMLHF6', 'B002LE8OWO', 'B0009OAIIG']\n",
      "A390XPHE9J7DBO ['B00IT1HKV4', 'B00DCF7QW0', 'B00FFANXMM', 'B000C21AC8']\n",
      "A2ILV6IPPW6W7I ['B006ZENPYS', 'B001LR3NPK', 'B000KOHRX4', 'B006ZBKH2Y', 'B000PNXBU8']\n",
      "AFHYEO3Y1IIDD ['B00BB8ZHIU', 'B00ALV8EJM', 'B003V21WO2', 'B007E0FQ1W', 'B00AWLBAE2']\n",
      "A3MUSWDCTZINQZ ['B00AO4E9MC', 'B00A0J084Y', 'B00A0J09C0', 'B007RTR8UC', 'B00GTC02LA']\n",
      "A3BMI7VGJT60Y7 ['B004TSFBNK', 'B004ITB3IW', 'B002DOO1VA', 'B004DIXYUI', 'B0043TUSME']\n",
      "A2B2I5JO3E8LBX ['B009WLXABE', 'B006L1DNWY', 'B0018X1WLY', 'B00BAVQZ5W', 'B0036UW5VS']\n",
      "A1DCBQD9QX2I3J ['B000142FVW', 'B005V2LLXC', 'B003STPN4S', 'B004220C6E', 'B000PQDKU6']\n",
      "A22ZFXQE8AWPEP ['B003FPE7MY', 'B0031B51Y0', 'B00DHOET6W', 'B006WVCF18']\n",
      "A89ZZKNDFQH23 ['B009YSSLAU', 'B00639DLV2', 'B009FKNGRA', 'B00I6CRX04', 'B00AE07FXQ']\n",
      "A22CW0ZHY3NJH8 ['B00GDLML02', 'B00GJX58PE', 'B004B9C8MO', 'B00A0IWSN4', 'B00A0IWTDI']\n",
      "A3TMBYDFP1B9DM ['B00AWLBACE', 'B0063TFLG0', 'B0040H00PE', 'B00BB8ZHIU', 'B00HM6K6XQ']\n",
      "A2AEQSSI637PJ0 ['B0090UJFYI', 'B0011DKKGY', 'B0008F6ZDI', 'B0030O3VRW', 'B0001TMDF0']\n",
      "A2R6RA8FRBS608 ['B00AE07B9O', 'B0006ZHCK0', 'B00A0IWTDI', 'B008JBOTDG', 'B0063A432W']\n",
      "A1EAX5HVYV96EF ['B0009F3OS6', 'B0036Q4RZE', 'B00943D1JQ', 'B003VI0HVA', 'B000ZLVUYO']\n",
      "A9MYCYZT8EMMX ['B000142C1A', 'B002GENWU8', 'B000PHZ26K', 'B001B7MAU4']\n",
      "AZ26CDSJ363AH ['B00AO4EMKQ', 'B0012XO2W6', 'B005KJ35D0']\n",
      "A30YBYLNRPOEG2 ['B0030HAF4G', 'B007NYB0DC', 'B002QY86BI', 'B00187OEWO', 'B000REOEYM']\n",
      "A1M1Y5UGONAW06 ['B000BTO6CI', 'B008QMWPKM', 'B00GCQMSVA', 'B001DBPZQE', 'B009GIOVKC']\n",
      "A3RRNV5GDJ4SLW ['B003MJ7Z0O', 'B003JN5ZEG', 'B000ZMBSPE', 'B002CMLJU4', 'B0041JIANA']\n",
      "A100WO06OQR8BQ ['B007JT7AEY', 'B00AE07CPM', 'B001U0ONNY', 'B00A0J09C0', 'B005TI7LHS']\n",
      "AK7CAW3N1XZV6 ['B000052YP6', 'B0009STDD8', 'B00GJYQCB2', 'B00EOP3MJI', 'B002VA4FXU']\n",
      "A1F7YU6O5RU432 ['B003V21WO2', 'B004B9C8MO', 'B00AAJTDLI', 'B00GDLML02', 'B00AE07FXQ']\n",
      "A132ETQPMHQ585 ['B000KONYPY', 'B0069SC0OQ', 'B001P1ZELS', 'B000C1Z4XA', 'B000KONYJK']\n",
      "A2P739KOM4U5JB ['B00ALV8EL0', 'B00AO4E9MC', 'B00GTC02LA', 'B00AE07FXQ', 'B002MO3CG6']\n",
      "A22QOZZLLIMW6I ['B008Q0E714', 'B007Q0WW0S', 'B00AVP37G8', 'B002DOO1VA', 'B008RS4LO8']\n",
      "A18JF0T0GOCORW ['B00G052NFE', 'B00GPWYF94', 'B00GM6H9BO', 'B00FFANXMM', 'B009LOJ5MA']\n",
      "A1Z54EM24Y40LL ['B00AO4E9E0', 'B0039NMCPG', 'B001FWXJ4G', 'B00GTC1JHQ', 'B00GYB17XI']\n",
      "A11I1I9QLMAM1A ['B004OHQR1Q', 'B00A0IWRT4', 'B001ECQ55M', 'B00GTC1HCI', 'B00DHQCJTO']\n",
      "A3U5RYD678A4LL ['B001ARQWW2', 'B001JQLNNC', 'B006DR2BO2', 'B0000CC64W']\n",
      "A2C58G8O40YC7T ['B0030O3VRW', 'B000052YOX', 'B0030HAE2Y', 'B000BTO6CI', 'B002OVV7F0']\n",
      "A2YKWYC3WQJX5J ['B009YSSLAU', 'B000142FVW', 'B00A0J09G6', 'B0029OAL86', 'B00IMHN0B4']\n",
      "A3M174IC0VXOS2 ['B0030GFY02', 'B00CXADQ4M', 'B000C1Z29Q', 'B00021C5Y6', 'B00FRDPMQC']\n",
      "A2EBR70V6P9W0N ['B004S9SEWK', 'B0011Z3X8O', 'B001FB5IFU', 'B001ET6XNO', 'B007DGRT3K']\n",
      "A1I6U5AQAT3ZG9 ['B00AWLBACE', 'B006L6A06Q', 'B00GTC02LA', 'B00GTBZXA6', 'B00AE07FXQ']\n",
      "A1P1O16N3ROSUY ['B003GC4GHM', 'B001HKR6WM', 'B004IM0KYM', 'B007O7AZ3O', 'B007SD28UM']\n",
      "A2KUUIJ52MWDAS ['B004BYUQG4', 'B00AE07GX0', 'B0073P01RC', 'B002AMUIBM', 'B004D268RA']\n",
      "A2F09EWKV3MTO2 ['B00A0IWRU8', 'B00GTBZXA6', 'B009FKNGRA', 'B0039UTO3M', 'B00C64GX4K']\n",
      "AOTMP0OKJOUWI ['B005TI7NPI', 'B00A0J09G6', 'B001ECQ4YO', 'B001ECQ4JE', 'B00AO379NE']\n",
      "A2BYV7S1QP2YIG ['B001T8S7T8', 'B00GW1HKHW', 'B00JTY6WQ4', 'B00092M2ZU', 'B004CASKMO']\n",
      "A3I3BI5PFL3MSH ['B000J41MNG', 'B00005A9WP', 'B000P6I3WG', 'B004C7U9GW']\n",
      "A3KEZLJ59C1JVH ['B0084A5PSK', 'B00AHF1GTM', 'B000L9YYTS', 'B00400B7RQ', 'B00152SZL8']\n",
      "A2V92F5R7MLCVI ['B00ALV8EL0', 'B0098JU8T2', 'B0039NMCPG', 'B001ECQ5CA', 'B00A0J084Y']\n",
      "A3CG93783LP0FO ['B00AO4EMKQ', 'B00G5WO2VK', 'B00A0IWSN4', 'B00478VG9U', 'B00GUTLC0C']\n",
      "A1047EDJ84IMAS ['B007H5HJ96', 'B003VMFITM', 'B0063TFLG0', 'B004D5BO8A', 'B000H3CPE4']\n",
      "A2VPPEVTCQ922W ['B002XQ1QZM', 'B000C1ZFBG', 'B00021AK4I', 'B001HTTBWQ', 'B000XE5260']\n",
      "AEC90GPFKLAAW ['B00GTBZI6A', 'B00GUTLC0C', 'B000GCTBNY', 'B00AE07BMQ', 'B004UKENRC']\n",
      "A24TCT2CY6KY68 ['B002LFLPEC', 'B004X1QKO2', 'B006UETDGC', 'B001H9275Y', 'B0000530ED']\n",
      "A1YMXGQQT7YWMN ['B006UET5UG', 'B00563K6VO', 'B006ZA0A5Y', 'B003F2T0M4', 'B002WTC37A']\n",
      "A1X3ESYZ79H59E ['B0072XUY7W', 'B007JT7AIA', 'B00AO379NE', 'B007JT7AEY', 'B00ALV8EJM']\n",
      "A2D2XKSXEG3O7F ['B004Z209HS', 'B006ZENPYS', 'B002QG6P9G', 'B0038ZKJEQ', 'B004MUG8V4']\n",
      "A2MUGFV2TDQ47K ['B00AWLBACE', 'B00AWLB9G6', 'B009HULKLW', 'B00AWLB9I4', 'B0000Y3COC']\n",
      "A27FP0S5QH7GNE ['B00021C1LI', 'B000VI1186', 'B001RMP7M6', 'B003YUDRNK', 'B005MG86TY']\n",
      "A3U029B8Z5WGI2 ['B00AE07BDU', 'B00GTBZHUW', 'B006L6A06Q', 'B00AWLB9I4', 'B00GYB17TC']\n",
      "A1DAFWS98LQD2R ['B001JQLNLY', 'B000142C1A', 'B001JQLNNC', 'B001ET7892', 'B00014DMQE']\n",
      "A3J1XDOKRNRA6M ['B001F51PXA', 'B001E919LU', 'B003UMNO6C', 'B00006JT6O', 'B000GCVZSI']\n",
      "A3094EPI56GKZ6 ['B006L6A06Q', 'B00AO4EL34', 'B004D267RG', 'B00CYDSAO4', 'B00HSNX1AS']\n",
      "A2256XQAA1L8V8 ['B0039XT498', 'B0009F3OS6', 'B004BCXAM8', 'B000PP15L8', 'B002BWOXYE']\n",
      "A27OTTW1CSOYWX ['B002QI1F8A', 'B00150LT40', 'B002S8PU02', 'B00D76IRXQ', 'B001DBPZQE']\n",
      "A2YW1MG1GKU8XD ['B00A0J09C0', 'B00AWLB9G6', 'B0068G8DTA', 'B001ECQ5CA', 'B009FKNGRA']\n",
      "A3AYSYSLHU26U9 ['B00H93NJLS', 'B00A0IWRU8', 'B002WTC37A', 'B001LF4I8I', 'B0006Q3NTS']\n",
      "AXK3KYH8NQ9G2 ['B004TSFBNK', 'B0014L29RQ', 'B001ARQWW2', 'B002GP5XD6', 'B004TSFE28']\n",
      "AQ6AGWKWMTY8H ['B00604MSSC', 'B001T8W5EQ', 'B000AO2NXS', 'B000TKH6G2', 'B00AE07EIM']\n",
      "A19UTUEBWKIZFT ['B0002Z8QG8', 'B00A0IWRU8', 'B00IT1HKV4', 'B00639DLV2', 'B00IT69F62']\n",
      "A9J5SLYXUCWO1 ['B004Z209HS', 'B004Z67NSM', 'B00FDK0V4M', 'B00121UVU0', 'B008PK5NRC']\n",
      "A3BFDEBT5IV4UN ['B004B9C8MO', 'B00AWLB9G6', 'B004GIM68G', 'B001TJXI5U', 'B00A0IWRRG']\n",
      "A2AVOVUTRTABTX ['B003UH0528', 'B001E96NHK', 'B006GXG6FI', 'B006L16BHS', 'B00198ZPU2']\n",
      "A2G3V7O4WP5F36 ['B004ZMCUIO', 'B004Y9GTYE', 'B00CK8RXUK', 'B00F4TQ49I']\n",
      "A281NPSIMI1C2R ['B000F63TW0', 'B00013YYS0', 'B0000535UT', 'B001P1ZELS', 'B00639DLV2']\n",
      "A1Q1Z7IR79G52A ['B00DLRNSSK', 'B00J5D8BY0', 'B00IT69F62', 'B00DJQQEGQ', 'B00G052NFE']\n",
      "A2SH7OWE8QJYNC ['B000X040QW', 'B000I5MJ8S', 'B003FKSVMG', 'B001E6G6FC']\n",
      "AKMEY1BSHSDG7 ['B002ZTT9II', 'B00AWLB9G6', 'B002B4EFCC', 'B002MO3CG6', 'B002GP5XD6']\n",
      "A2OCDK0BOW6UCY ['B001ECQ5CA', 'B00AWLB9G6', 'B00AE07FUE', 'B0072XUY7W', 'B00AWLB9I4']\n",
      "AB24Z8PTNQ33I ['B000Q7XDR4', 'B006BES3LC', 'B002WJOOIQ']\n",
      "A7T2VY28U2IDB ['B000052YOX', 'B00008J2XQ', 'B000X1YING', 'B001EWF2SI', 'B001KYQ4HS']\n",
      "A1YRCEF0HM8QVR ['B005HO0A1I', 'B000F8HWXU', 'B001S4C91K', 'B006FXOKDY', 'B00129XP8M']\n",
      "A35LT14WG5BX0T ['B00AO4E9MC', 'B002TSA90M', 'B00AWLB9I4', 'B00AO4E9E0', 'B00AE07GX0']\n",
      "A2JR5ZTSYSIQYX ['B0081CWUD4', 'B0039OVDJ6', 'B005LQRYKM']\n",
      "A2F4FJ3BIZ68GJ ['B006T8T0P8', 'B001A4826E', 'B004B0U57S', 'B0078VJ1OK', 'B008H42554']\n",
      "ACJT8MUC0LRF0 ['B005TI7NPI', 'B001ECQ4JE', 'B004B9C8MO', 'B00AAJTDLI', 'B00A0IWTDI']\n",
      "A6QG9LM5WL0AQ ['B006L6A10G', 'B00BB8ZHIU', 'B00IP42FBA', 'B007E0FQ1W', 'B002PBGBX2']\n",
      "A34BZM6S9L7QI4 ['B00G052NFE', 'B00IP42FBA', 'B00AWLB9G6', 'B00IDWP4IA', 'B00IMHN0B4']\n",
      "A2LW5AL0KQ9P1M ['B00HSNWZKU', 'B00ALV8EJM', 'B00AHF1GK6', 'B00GTBZI6A', 'B00AE07EIM']\n",
      "A5GPH59NDWJRB ['B00ALV8EJM', 'B006L6A06Q', 'B002MO3CG6', 'B00GW1HKHW', 'B00AO4E9E0']\n",
      "A353U0L2HAMSHV ['B00AO4E9MC', 'B00AO4EMKQ', 'B001LF4I8I', 'B00AE07EGO', 'B00AHF1GK6']\n",
      "A19HDB4BN6RFFT ['B0092SVTGA', 'B0030O3VRW', 'B007JBF99U', 'B000C1Z2D2', 'B00385WMI2']\n",
      "A3JCWGHCVC2ZNF ['B0096OBH4Y', 'B008DF54K0', 'B004S6BXLW', 'B001JKTTVQ', 'B0063A432W']\n",
      "A1HBTW5M7ZZ9PT ['B002HWS7RM', 'B002WTC384', 'B004Z67NSM', 'B0085BVFZK', 'B000052YOL']\n",
      "AKMBOKJQBLI1U ['B006HJPT7W', 'B0032PQPWW', 'B008Q0E714', 'B00A6O1AP4', 'B00876T3W0']\n",
      "AHN86VFJIJ2JP ['B00CYDSAO4', 'B00GTC1HCI', 'B000F5AFYG', 'B00HM6IV6K', 'B000XFWO10']\n",
      "A2A5C9IQ06CG9N ['B000NJG82W', 'B001AO0WCG', 'B0009XH6TG', 'B003P7VX24', 'B0042WIHNY']\n",
      "A2I5QH4F5FDKK5 ['B00GTC02LA', 'B00A0IWRRG', 'B00AE0790U', 'B00AE078TM', 'B00HM6K6XQ']\n",
      "A28IBOLVCSQRLQ ['B000Q2RP7I', 'B0030HKJ8I', 'B0044XXO84', 'B0073P01RC', 'B003VI0HVA']\n",
      "A3FWVV13DJELLV ['B00BB8ZHIU', 'B00A0IWRT4', 'B0075J4TDI', 'B00HM6K6XQ', 'B00HM6IV6K']\n",
      "A2GJX2KCUSR0EI ['B0030HKJ8I', 'B00150LT40', 'B000142FVW', 'B001699TI8', 'B004DIUWAI']\n",
      "A1GYEGLX3P2Y7P ['B00GTC02LA', 'B009YSSLAU', 'B00KD73PBQ', 'B00GTBZHCA', 'B00DG7YJQA']\n",
      "A3E5V5TSTAY3R9 ['B000WYZ9Q4', 'B000127UUA', 'B000H3CPO4', 'B000127UVY', 'B00I11RWDS']\n",
      "A2PGDUYXZFAPT5 ['B0063TFLG0', 'B001BR97A0', 'B0009F3R7E', 'B005PYWS60', 'B006L1DNWY']\n",
      "A11SWG9T60IQH8 ['B003V21WO2', 'B000HJT1CW', 'B0018ZPZJC', 'B002XBBLJS', 'B000R46I1O']\n",
      "ALEW5AUKCRWHN ['B006ENQHLS', 'B0032DHP6O', 'B005ACLU3E', 'B0061YRVMO', 'B005X2F7JY']\n",
      "A1ODOGXEYECQQ8 ['B003V21WO2', 'B00GDLML02', 'B002TSA90M', 'B00HSNWXVQ', 'B00GTBZI6A']\n",
      "A35HOUWHAYZZN6 ['B00AWLBACE', 'B00GTBZI6A', 'B005HIHD2I', 'B00A0J09C0', 'B00AE0790U']\n",
      "A376OJHLE6SU9Q ['B00ALV8EJM', 'B00AWLB9G6', 'B000GFZWDO', 'B000GUZ8HY', 'B0002YE8V6']\n",
      "A1X2LENOF84LCQ ['B00JF3RYPM', 'B0010A9RYO', 'B003JA5OJA', 'B007RTR8AC', 'B007JT7AGC']\n",
      "A158CH42BGFN68 ['B0046VGPHQ', 'B008VHGW7Y', 'B006L16BHS', 'B0013UAPVK', 'B004NMTMUK']\n",
      "A3NHUQ33CFH3VM ['B00AWLBACE', 'B00ALV8EJM', 'B00AE07BMQ', 'B001AO0WCG', 'B00HSNWXVQ']\n",
      "AH59DZ5AXO8PR ['B006GTKSHY', 'B005ACLU3E', 'B0034KYDTM', 'B005UL3LVY', 'B002RXW5BA']\n",
      "A1X64HF17UU8TX ['B005UBN2AO', 'B001F51PXA', 'B000TBW0NA', 'B000KVH1QU', 'B005UBN5AQ']\n",
      "A1WX42M589VAMQ ['B000142FVW', 'B001KMR9WY', 'B00641UCY8', 'B001FB5IN2', 'B001B1831U']\n",
      "A33Y8C4818EJL0 ['B00AWLBACE', 'B00A0J09C0', 'B003ITMPI0', 'B00A0IWSN4', 'B00AE078TM']\n",
      "A1APT9S64ARZYX ['B008DLT9H8', 'B000ME2YWG', 'B001BALMCS', 'B001ET7892', 'B0088D9R5K']\n",
      "A2WW57XX2UVLM6 ['B00GTBZHUW', 'B000AO2NXS', 'B005TI7NPI', 'B005TI7LHS', 'B006RFZ8NG']\n",
      "A3S3R88HA0HZG3 ['B009YSSLAU', 'B00IP42FBA', 'B00GYB107Q', 'B00008ZPGA', 'B00A0IWRRG']\n",
      "A2PATWWZAXHQYA ['B0052BHMOO', 'B007SA3CD2', 'B00GUTLC0C', 'B004BCT7G6', 'B004ITB3IW']\n",
      "A3H4L7TJKQHW4Q ['B00011QTZI', 'B007Q0WW0S', 'B000NSQI4Q', 'B0008IV7BU', 'B00017XWJ8']\n",
      "A2QDOJFFLFGF18 ['B001A5S3BM', 'B00AWLB9G6', 'B00AE07CPM', 'B00AWLB9I4', 'B00AO379NE']\n",
      "A1QV5IH6HDRN0L ['B000P257CO', 'B000C230QC', 'B002UGO15M', 'B004FEKA3E', 'B004N0ULSO']\n",
      "A6XHF110BC856 ['B00479FP4Q', 'B0046EBOFG', 'B000MC5US8', 'B000NB3VNO']\n",
      "A2SZLNSI5KOQJT ['B005TI7NPI', 'B008VSYO5A', 'B00A0IWRU8', 'B00AE07B9O', 'B00AE07CPM']\n",
      "AG05BT5GLNYLZ ['B00A76CPUA', 'B004OHQR1Q', 'B006U98T08', 'B006T8T0P8', 'B001JKTTVQ']\n",
      "A1JLBNDDAJB4OP ['B006BA3BAY', 'B0072XUY7W', 'B003VI0HVA', 'B003TPTGDK', 'B0017QK7A4']\n",
      "A1UQBFCERIP7VJ ['B004GIM68G', 'B00AO4E9MC', 'B00H93NJLS', 'B009YSSLAU', 'B00IT1HKV4']\n",
      "ATSR2L4FZVO8Z ['B003UH0528', 'B002VBRPZO', 'B0042GH78G', 'B004S9SEWK', 'B0010XUU9M']\n",
      "A3S3VSXEFXBMRC ['B001619XP0', 'B003VN1ING', 'B000ZMBSPE', 'B006ON74II', 'B001P24STG']\n",
      "A96FRN3LGYUX9 ['B00005CDSP', 'B00198ZOU8', 'B005ITRIOY', 'B001DKRM8O', 'B009CS493U']\n",
      "A260QLS8Z33KCQ ['B007MF5UOM', 'B002PBAJ4Y', 'B004BCXAM8', 'B0033PSM6S', 'B004DIUWY4']\n",
      "A1PAGHECG401K1 ['B002LB75AO', 'B005TI7NPI', 'B006RFZ66K', 'B001MX89Y8', 'B001T8S7T8']\n",
      "A1UVKA2ZQD2C8Z ['B001V9OWNU', 'B003COAFPQ', 'B001DKK7Y0', 'B0010KR098', 'B000ZLVUYO']\n",
      "A3R9H6OKZHHRJD ['B006L6A06Q', 'B000C1Z1HE', 'B00GTBZWPW', 'B00A0IWRRG', 'B000WZP3WI']\n",
      "A2R1HUYHXV7H18 ['B006L6A10G', 'B00IP42FBA', 'B00CYDSAO4', 'B00AO4EBOI', 'B00AE07BMQ']\n",
      "ATANE2SC44592 ['B000E0K7NQ', 'B00HSNWZKU', 'B00HSNWXVQ', 'B00AE07932', 'B00A0IWRUI']\n",
      "ADS99W8WMEXZ2 ['B004UDQ6GK', 'B00GZ18LL8', 'B00H93NJLS', 'B00CXDVRU4', 'B000052YOR']\n",
      "A1QBOC76MIOJYP ['B00ALV8EJM', 'B002LE8OWO', 'B0039UTO3M', 'B005TI7LHS', 'B005EFYXLI']\n",
      "A1GQAKL9CGQLP1 ['B004GIM68G', 'B0007W1R58', 'B00B0GOSNI', 'B00EOP3MJI', 'B0000CC64W']\n",
      "A1C80VYQMM3FQB ['B0084A5PSK', 'B001CPM03C', 'B0017PUPMK', 'B001UE60E0', 'B0046ZHQAW']\n",
      "A1R377IPZOKLMM ['B00DCNBST4', 'B004N7DQHA', 'B000QUM5LG', 'B000ELP5KA', 'B00DQL2TCW']\n",
      "A2K4HN6EECBNR3 ['B0098JU8T2', 'B00GTC02LA', 'B008X9KKSM', 'B00A0IWRRG', 'B00CA05FO4']\n",
      "A1X1CEGHTHMBL1 ['B0006ZHCK0', 'B000C1UFDE', 'B002JDUMFO', 'B003A870SE', 'B0009OAIE0']\n",
      "ARYSDAZNRXN6G ['B00G5WO2VK', 'B00AE07CPM', 'B00021B8L2', 'B00D6EDGYE', 'B006L6A9NK']\n",
      "A261I3UFZG30Z6 ['B005Y6F4WO', 'B008FX7B9M', 'B00A73BVP8', 'B006K9OQSC', 'B005PYWS60']\n",
      "A2B8GXSCB1R05T ['B006L6A06Q', 'B005HO0A1I', 'B00GTC1HCI', 'B001IACZEK', 'B000OFNDMS']\n",
      "A1RRMZKOMZ2M7J ['B0009STDD8', 'B00BLDCXOQ', 'B000FCNW26', 'B000XE4CHK', 'B000JL5MK8']\n",
      "ADMPGWBF0BC9W ['B004LXHEX8', 'B005OZFV50', 'B0082D69H0', 'B005OZH88I', 'B002JL1Y6C']\n",
      "A31B8RZ8YDMRX1 ['B00KCFAZTE', 'B004MJIL92', 'B00GLE8SNK', 'B00JK3ZHIS', 'B00KAL5JAU']\n",
      "AKJHHD5VEH7VG ['B00DCNBST4', 'B005GQ6HUK', 'B001LF4I8I', 'B00A0IWTEW', 'B0017TZD7S']\n",
      "A287547UH1VBJ7 ['B001AO0WCG', 'B001PN55KQ']\n",
      "A29M09QBG9TZLP ['B005TI7NPI', 'B004INQ65S', 'B00HM6K6XQ', 'B00604MSSC', 'B00AE07B9O']\n",
      "A1ZGHA3IJV01BK ['B00AWLBACE', 'B003IXP6P0', 'B004UKENRC', 'B002Z7EOOE', 'B00GTC1HCI']\n",
      "A13JU88JAHN72I ['B007BLN17K', 'B000EVGQ8U', 'B001T8W5EQ']\n",
      "A1MFDFUGEVNIFK ['B000C1VT0W', 'B000M8BE3C', 'B000C1W2DK', 'B005LN66Y0', 'B000WTHKVQ']\n",
      "AIIZTJHZLV158 ['B001ECQ4JE', 'B00013YYS0', 'B0098JU8TW', 'B004KU9PN4', 'B002U20DYO']\n",
      "AZ9JPUSCI0V49 ['B0089JVDPK', 'B006UET5UG', 'B0030HKJ8I', 'B007Q22HMY', 'B003TNVSTW']\n",
      "A20F84KUBWM88B ['B00AWLBACE', 'B0098JU8T2', 'B005XIM6J2', 'B006T8BWOA', 'B0062GZB4Q']\n",
      "APVEFBIJPTYWU ['B0069SC0OQ', 'B001KPSO5M', 'B0049J7P3S', 'B000VDAFHE', 'B0026RCMAG']\n",
      "A2K5AFTU4YOPPW ['B000C1Z29Q', 'B00008J2XQ', 'B004DHYZU2', 'B005Z446JC', 'B00147FGJ8']\n",
      "AY9HUIJWJ8TT7 ['B002B4GGUG', 'B004X1QY20', 'B002T3V294', 'B004MOU4C4']\n",
      "A3ESTWDBNOUJQ7 ['B005UBN2AO', 'B004DIXYUI', 'B002QY86BI', 'B001KYS1YM', 'B001KYNVLU']\n",
      "A2X3L31KCXBHCL ['B000E0K7NQ', 'B005XIM6J2', 'B000Q6V1UG', 'B00AE07EGO', 'B00BB5YHFW']\n",
      "A2SSV6KM3W1VFD ['B00AWLBACE', 'B009YSSLAU', 'B00B33Y2JI', 'B008U5XRX4', 'B004Q8GYES']\n",
      "A1TPW86OHXTXFC ['B003UH0528', 'B0009HJBPE', 'B0000UTUW4', 'B007WFZ0XI', 'B004B3YC9M']\n",
      "A3NM1MT3Q2FHXV ['B00A0IWRT4', 'B00A0IWRU8', 'B00HSNWZFU', 'B0040H00PE', 'B006RFZ5ZM']\n",
      "ADS5APY1NKTL4 ['B00AHF1GTM', 'B00099E8ZA', 'B00016WW8Q', 'B000EEZAXO', 'B001R2S8HM']\n",
      "A5BJMAHZWGJ7N ['B0013CSGBE', 'B00AO4EMKQ', 'B006L1DNWY', 'B00HSNWXYI', 'B0002KS5VE']\n",
      "A2H76V7TTCZ4KV ['B004TSFE6Y', 'B004530AB2', 'B000629ZHG', 'B002B4GGUG', 'B002UL10HY']\n",
      "A1X6PD8QYKIJHZ ['B001E96NYS', 'B001F51TNQ', 'B003S516XO', 'B000IF3D38', 'B000HGIQRG']\n",
      "AENH50GW3OKDA ['B002RTIS24', 'B00ATDTZ0Y', 'B008RVYJS8', 'B00EWDKF06', 'B005KT4T44']\n",
      "A36MP37DITBU6F ['B00A0J09G6', 'B00HM6K6XQ', 'B001A5S3BM', 'B0072XUY7W', 'B00AE078TM']\n",
      "A1P2XYD265YE21 ['B00JF3RYPM', 'B00AE07BDU', 'B008VSYO5A', 'B0027CT5VO', 'B009VGNYFM']\n",
      "A112TFLXGBF6NI ['B00132ZG3U', 'B000XFSUWW', 'B001DHI0R4', 'B006WVCF18']\n",
      "ANXT431V3MW4Z ['B000HRVC5I', 'B0030O3VRW', 'B0000535RA', 'B001ADP0OM', 'B000I5MJ8S']\n",
      "A8O12DCHIADYU ['B006UET5UG', 'B005EII2OY', 'B003RCZSJ6', 'B001AT5LEU', 'B006KTTGC8']\n",
      "A33PYDS5IBQD7N ['B000P22TIY', 'B003UH0528', 'B007Q0WW0S', 'B002HWS7RM', 'B00CC7TBHM']\n",
      "AHUT55E980RDR ['B00AWLB9G6', 'B0072XUY7W', 'B000E0K7NQ', 'B00AO4EBOI', 'B0040H00PE']\n",
      "AMLLGCP82ZO7C ['B006L1DNWY', 'B006CD6616', 'B00468KRH8', 'B003VMV7D8', 'B005C1C02S']\n",
      "A2W9VGCIJQG0NI ['B002QI1E9K', 'B00641UCY8', 'B0009VNI40']\n",
      "AN9EWQN1LGMY7 ['B005UBN5AQ', 'B000EGMCFG', 'B0001432S2', 'B0009OAIE0', 'B001JQLNMI']\n",
      "A2Q3BW3177V542 ['B000142FVW', 'B0002Z8HAI', 'B000142C1A', 'B003X3S26U', 'B0009R33U8']\n",
      "A10G136JEISLVR ['B003U4LGV0', 'B0038TVHGG', 'B004MKEMPI', 'B0065R18TY', 'B0049J7P3S']\n",
      "A1GUX6R8DV3ZLY ['B000142FVW', 'B003UH0528', 'B0082D69H0', 'B003I6O5RC', 'B000P6BRHY']\n",
      "ATV36X9V9DRB9 ['B0089JVEOK', 'B0006LNMIU', 'B000YHLOC2', 'B000OV3ZDO']\n",
      "A1T61QP7QHYBRQ ['B00AWLBACE', 'B00A0J084Y', 'B00AO4EBOI', 'B00AE0790U', 'B008U5XRX4']\n",
      "A3SH6CQYS8FHB ['B000IIHDT0', 'B00IALDHDI', 'B003V265QW', 'B004OEO0E0']\n",
      "AOEUN9718KVRD ['B001E96NHK', 'B00604MSSC', 'B008U5XS2O', 'B005TI7NQW', 'B000IOFQWK']\n",
      "A324GIXX5SIYGA ['B000052YOX', 'B0010XUU9M', 'B006UET5UG', 'B001Q8560Y', 'B0030HAE2Y']\n",
      "A3RHPBNP2N9RJB ['B0058CJV50', 'B000A409J8', 'B000A38ZFO', 'B00176B9JC', 'B001OKB4OQ']\n",
      "A1EVV74UQYVKRY ['B00DCNBST4', 'B00GDLML02', 'B00A0J09GG', 'B002UUT3YM', 'B00AE07BMQ']\n",
      "AEL6CQNQXONBX ['B00AE07CTI', 'B005TI7NPI', 'B00GCQMSVA', 'B000AO2NXS', 'B00ALV8EJM']\n",
      "A3TYR1ALBZ2EU9 ['B005UL1B34', 'B004A8LFJI', 'B005UBN5AQ', 'B00A76CPUA', 'B004OHQR1Q']\n",
      "A1KSC91G9AIY2Z ['B0018DAUKI', 'B003UMNO6C', 'B00121UVU0', 'B001ECQ4IU', 'B007O7AZ3O']\n",
      "A110PQTEI6THU7 ['B0038TYTSO', 'B001189I3A']\n",
      "AIIR8E34EDKCQ ['B005HIHD2I', 'B001AO0WCG', 'B001D0ACUE', 'B002DPUXZ2', 'B005QZQ9JU']\n",
      "AYOMAHLWRQHUG ['B00AAJTDLI', 'B00GTBZHUW', 'B0030GFY02', 'B00AWLB9I4', 'B00A0IWRRG']\n",
      "AGEKVD8JPZQMT ['B009YSSLAU', 'B00A0IWRRG', 'B000E0K7NQ', 'B00A0J084Y', 'B00AE07CPM']\n",
      "A32ZIX6JXPJX3O ['B001ALPKXA', 'B0020MM8TW', 'B001M9KX78']\n",
      "A3J029KBNG5MNP ['B00604MSSC', 'B00A0J09GG', 'B00A0J084Y', 'B00A0IWTDI', 'B00A0IWRU8']\n",
      "A3CTOYWB73TMM0 ['B000052YOX', 'B000P22TIY', 'B0056KD6N2', 'B007HTSVAS', 'B004SU88CU']\n",
      "A1P27BGF8NAI29 ['B000HRVC5I', 'B000AO2NXS', 'B00BB8ZHIU', 'B0002714IS', 'B00122CP30']\n",
      "A2DA2NJZ2RIYAB ['B00A0J09GG', 'B00AE07BMQ', 'B007JT7AGC', 'B00AE07B9O', 'B005TI7NQ2']\n",
      "A3HJ8ZPQN5VR7X ['B00008CMOQ', 'B00AQ9RTBS', 'B000RO6ZDA', 'B002XQ1YT0', 'B006M1AQDM']\n",
      "AI0131QZO047J ['B003VMFITM', 'B0015G9EGY', 'B00A76CPUA', 'B000G33KEO', 'B003VN00YY']\n",
      "A1GT3775JP80UF ['B00150LT40', 'B0065DLADM', 'B0018BTA2Y', 'B000VDUOFM']\n",
      "A6X1O3A5C5FX1 ['B00AE07FUE', 'B00AE07EIM', 'B00AE07GX0', 'B00HM6IV6K', 'B0034F9KEU']\n",
      "A3VBF1J95ROAYF ['B00150LT40', 'B0002Z8QG8', 'B001FT3OZI', 'B000VV1ZMU', 'B001707IQ6']\n",
      "A2OWR5G2OAQF7C ['B00CYDSAO4', 'B00AWLB9I4', 'B00198ZPU2', 'B002CMLHF6', 'B0050VKEWS']\n",
      "A1M04H40ZVGWVG ['B005WKJB6C', 'B002WTC37U', 'B001V9LUO4', 'B007U90J5U', 'B00159Y23Q']\n",
      "A1QTICTBQKS6I6 ['B004GH99QO', 'B0006ZHCK0', 'B000G8LWZI', 'B001U9M2EW', 'B000271KR8']\n",
      "A2USMIT2CSA08 ['B00641UCY8', 'B0019LWU2K', 'B005R3IPJI', 'B00099Z2OQ', 'B004MKNUAG']\n",
      "A1APERZNMEU8PW ['B001TJXI5U', 'B000WNLFBI', 'B008K1YYM6', 'B004R6CAGU', 'B0020YLEYK']\n",
      "A2PXXYVFB3HD6O ['B00CXADQ4M', 'B001L3YB28', 'B004UE9S9Q', 'B001HTYJLO', 'B0097G3XDY']\n",
      "A3LWVPC3KVQAFR ['B006UET5UG', 'B001C4Q3UY', 'B0044XXO84', 'B004CQ710U', 'B0028BKV4E']\n",
      "A3QNV9LUNM589P ['B001EJOPXE', 'B002DPUY4W', 'B003FXE6VI', 'B000PHUKEE', 'B00C8FVY3M']\n",
      "A2YB7DLC3FOR7W ['B001LF4I8I', 'B001LF4G4E', 'B001EWETAK', 'B0050QJ0S2', 'B004MTCKSU']\n",
      "A2ZY49IDE6TY5I ['B000142FVW', 'B00604MSSC', 'B001U0ONNY', 'B00ATY942M', 'B000AO2NXS']\n",
      "A1VUGUKWX4B808 ['B00CJ3MDJW', 'B005FFVATK', 'B00DPTW8JY', 'B00DSLFNQ4', 'B00ARX8GGA']\n",
      "A1YUL9PCJR3JTY ['B0009ET5O4', 'B001ET72C0', 'B000VA7V6U', 'B001QX7NTQ', 'B001N444JK']\n",
      "A2VOGNBUMXSW13 ['B000G8LWZI', 'B002U774PK', 'B00021DJ32', 'B005OZF1S2', 'B00013TQRE']\n",
      "A1EF37KYK7PRLV ['B002QI1F8A', 'B000W3QDJ2', 'B000X040QW', 'B002KMXO36', 'B004TSFE6Y']\n",
      "ACZ94JB8BFMJ9 ['B0013CSGBE', 'B001ADP0OM', 'B007O7AZBG', 'B003MJ7Z0O', 'B001KYS1YM']\n",
      "A2CQ2X9H9HY6W0 ['B00B99O5WK', 'B0071H5C76', 'B000MQSIOW', 'B003UJHSUI', 'B000VQEQXA']\n",
      "AEJEG1P5S4J9Y ['B00150LT40', 'B001MX89Y8', 'B0019N6RFO', 'B000TNOUA4', 'B001HNNSIU']\n",
      "A2D4FQHV506EPB ['B00604MSSC', 'B00GTBZNP6', 'B008U2Y9BQ', 'B0098JU8TC', 'B001707IQ6']\n",
      "A2QWHEI914GHRZ ['B00G052NFE', 'B00I2495QG', 'B00I6R90Q4', 'B00IS6XPQY', 'B00G7UPGZQ']\n",
      "AE7V92R2LVEJF ['B0084A5PSK', 'B005UBN2AO', 'B004NMTMUK', 'B002BFIH2U', 'B000052YJM']\n",
      "A2ZKZJGVGIJ8OP ['B00016XJ4M', 'B000P6WIHC', 'B005SPWI3O', 'B002B4O7XE']\n",
      "ABDR6IJ93HFIO ['B00GUTLC0C', 'B00GP2N66W', 'B002LE8OVA', 'B001QXKDRA', 'B00HSNX1AS']\n",
      "A1W31W7O8D5EW ['B001H54VJI', 'B001DKK7Y0', 'B0019IC2N0', 'B002T5B4T0', 'B00157RZ14']\n",
      "A2ZKQC0XCIIAEM ['B008VSYO5A', 'B000E0K7NQ', 'B005TI7NPI', 'B00AE07BDU', 'B00HM6IV6K']\n",
      "ALQGOMOY1F5X9 ['B0034F9K36', 'B004WC37SY', 'B00006JN4F', 'B000KONYJK', 'B0047F9622']\n",
      "A174X51AGFWAMW ['B0008F6ZDI', 'B00BOBKSLK', 'B0012CD32W', 'B003E0KC2Y', 'B000KNHJ5G']\n",
      "A3315AAN855HYG ['B002QI1F8A', 'B000EM9D6Q', 'B002WDIPR8', 'B003CEA88U']\n",
      "A1VQBEW0G4IH1J ['B00A0IWRU8', 'B006L6A10G', 'B009FKNGRA', 'B00GTC0DFK', 'B00GTBZWPW']\n",
      "ACR4HKUT808U1 ['B005TI7NPI', 'B00ALV8EJM', 'B00A0J09G6', 'B001ECQ4YO', 'B00604MSSC']\n",
      "A2A7KXM9B4XW90 ['B002QI1E9K', 'B005OZW3ZG', 'B004XA81ZE', 'B001KYVOJQ', 'B005TKZS76']\n",
      "A2S7YBFPZX1IGQ ['B005OZW3ZG', 'B001V3TVEQ', 'B00016XJ4M', 'B001E96P0U', 'B001JQLNNM']\n",
      "A2OTGX253O4J4D ['B003ZTVDBS', 'B0015G9EGY', 'B002S8PU02', 'B001CTQMIC', 'B004W24LQ6']\n",
      "A21VGNU5959O85 ['B006L6A06Q', 'B006L6A10G', 'B008U5XRX4', 'B00639DLV2', 'B004D267RG']\n",
      "A1PK9JYJF5Y2V6 ['B000ELP5KA', 'B002HWS7RM', 'B0050GPSW4', 'B0038TVH3Y', 'B0014AX89K']\n",
      "A1A3R2SG60TOR0 ['B001VD8DDG']\n",
      "A3UZ99BQWAJACU ['B004ITB3IW', 'B0011ULXB8', 'B001GELIBO', 'B0026IFLG2', 'B00008MOQN']\n",
      "A34TVK5J8P7XDQ ['B00HD4F8DK', 'B00121UVU0', 'B0002Z8GEK', 'B000UBN5S8']\n",
      "A135SX8ESCQV9B ['B005X2F7JY', 'B005ACLU3E', 'B00644YNCM', 'B005UL1B34', 'B0061YRVNS']\n",
      "A24N4FKHGD7DWT ['B0094GHGQM', 'B00AQ9JIDK', 'B0058CJV50', 'B0094G3M6A', 'B005TKZS76']\n",
      "APYKGTU0LFICH ['B001ET76EY', 'B000052YQ2', 'B0082D69H0', 'B0092MCO88', 'B002VA4FXU']\n",
      "A36RO7NCM6IUGB ['B00021DZCC', 'B00016X68Q', 'B000C1VX3A', 'B0009OAGRE']\n",
      "A1ITRGMT80D5TK ['B00ALV8EJM', 'B005TI7NPI', 'B0068G8DTA', 'B00AO4E9E0', 'B001LF4G6W']\n",
      "A914TQVHI872U ['B00JF3RYPM', 'B00A0J09G6', 'B000142C1A', 'B00AWLB9I4', 'B001441QFE']\n",
      "A3GU3CXHONZJQ6 ['B001PTFY2O', 'B0009OAIB8', 'B0009OAGRE', 'B000BTO6EG', 'B000C1ZFJI']\n",
      "A2WZNM833CJH82 ['B0032DHP6O', 'B0030GFY02', 'B001ECQ4JE', 'B007RTR8UC', 'B009FKNGGQ']\n",
      "A2CHH5P055A0KL ['B007SA3CD2', 'B001OQH6HY', 'B004BD9152', 'B002Q52YKG', 'B000052YJM']\n",
      "A2UM324B00HBC8 ['B00547H5U2', 'B001OG1CWY', 'B005KJ353U', 'B00GLS58OS', 'B00HNKRWI8']\n",
      "A1FR87EBHPZHBJ ['B00CDGR29G', 'B005VX8S4G', 'B001GEEQ90', 'B004NYWR7S', 'B003G0S7S8']\n",
      "A3D9NUCR4RXDPY ['B00A0J09C0', 'B00I6CRX04', 'B003EH20VI', 'B00HNKRWII', 'B00604MSSC']\n",
      "AXYVSHTLWBINI ['B000AO2NXS', 'B00AO4EMKQ', 'B000CPIMNA', 'B0015C0RIC', 'B005I2MP62']\n",
      "AJGU56YG8G1DQ ['B000QUM5LG', 'B003TPTGDK', 'B000CIBVP8', 'B000BZB1FC', 'B0047PSV14']\n",
      "A2JCJJNY43QQIV ['B00AHF1GK6', 'B00AE078TM', 'B00D6EDGYE', 'B00AAIOP44', 'B005CE21YW']\n",
      "A3S8D4BMVASTF9 ['B004EWS5F2', 'B007UM8ZGM', 'B008V9JG02', 'B003H8180I', 'B007PY4QV8']\n",
      "AA1JJNJ5VYI97 ['B000BY2N7S', 'B001PEZAHI', 'B002XOQSPC', 'B000QTFT2Y', 'B000B63Y1K']\n",
      "A3SFI0SLCMP0KX ['B00021B8L2', 'B00A76CPUA', 'B006HT0AK8', 'B002K6AHQY', 'B00JGCU60W']\n",
      "A1ZXEVTNNDKJ61 ['B000F0QCWA']\n",
      "A32NZK5H2NIM13 ['B002QI1F8A', 'B0009OAHWI', 'B0092SVTGA', 'B005O54SVS', 'B00092M2X2']\n",
      "A1MI1I73Z5J9MI ['B0030O3VRW', 'B000O3BDHW', 'B002XHACTM', 'B004DIUWAI', 'B001Q88FO8']\n",
      "A3LJLRIZL38GG3 ['B0019QQ13Y', 'B004X1QY20', 'B005EFYXLI', 'B007CDSFKU', 'B0026J10CU']\n",
      "A1PI8VBCXXSGC7 ['B004GIM68G', 'B00DCNBST4', 'B005HO0A1I', 'B00G052NFE', 'B00GW1HKHW']\n",
      "A17Y11XADHLI8A ['B003M57E9A', 'B003CHMS4O', 'B005UGVIQ4', 'B001JKTTVQ']\n",
      "A19KOAGQJUXL18 ['B00ALV8EJM', 'B000052YP6', 'B000MT1GHA', 'B002T5NMGS', 'B00G36TJKW']\n",
      "A3VN4P1607UR2U ['B00B2CEHAO', 'B003I8I0YY', 'B00683JILU']\n",
      "A1YLLARX683DKC ['B001KYPZRS', 'B0049E7984', 'B000OD31WW', 'B007WW1AOE', 'B0000531GD']\n",
      "A1IU7S4HCK1XK0 ['B000ODNSR0', 'B002GP5XD6', 'B002Y26RUE', 'B000ZMBSPE', 'B003I6MLN2']\n",
      "A2FWDBKX76ILA7 ['B0002Z8HAI', 'B00GCQMSVA', 'B0000536M2', 'B008R56PVI', 'B006K9OQSC']\n",
      "A1X5VVJP78U81E ['B006UET5UG', 'B004Y9GS0E', 'B0000531WZ', 'B006OHM542', 'B002XHACTM']\n",
      "AGWWIU5K88RKB ['B00AINMFAC']\n",
      "A1UMSB7LAW0RIR ['B000E0K7NQ', 'B00AE07CTI', 'B007JT7AIA', 'B00A0IWRRG', 'B0020122ZS']\n",
      "A2HMP5LYU0BF6B ['B0047ELRO8', 'B003RD1MV8', 'B002B4GGUG', 'B002XHACTM', 'B003I5ZMDY']\n",
      "A1Q3W2FX8LKH19 ['B003F2T0M4', 'B0081CWUD4', 'B0039UTTC8', 'B0009ET6BQ', 'B005G9LPAY']\n",
      "A2D1LPEUCTNT8X ['B00JX979CQ', 'B001CTQMIC', 'B008PUJBJS', 'B00011QVHO', 'B001QFDTWO']\n",
      "A1RVM6W2YI7568 ['B0000UTUW4', 'B001UE60E0', 'B003BQ6QXK', 'B0000UTUVU', 'B000BIUGTQ']\n",
      "A1NBK07JEBCFI ['B003GDBEBM', 'B000UPRSKA', 'B0009EXOO6', 'B00141XJJS']\n",
      "A1R1BFJCMWX0Y3 ['B005TI7NPI', 'B00AE07BMQ', 'B00A0IWRU8', 'B00AE07CPM', 'B001A5S3BM']\n",
      "AC1UO4XW14D6W ['B007XA49O8', 'B002WTC37U', 'B0000YUX4O', 'B007SG2QT2', 'B004GT440S']\n",
      "A1FU6N9PIEIL5F ['B0017U10SI', 'B0030HKJ8I', 'B0058CJV50', 'B001BAG38G', 'B004KXKG20']\n",
      "A2AX9C569CKHOJ ['B004JLGC12', 'B007CY2C76', 'B00649P4JS', 'B00008CMOR', 'B001SERK9G']\n",
      "A10Y59HW4O47N0 ['B00132FV8U']\n",
      "A3FA78E0G3G4GQ ['B004Z209HS', 'B001824J5G', 'B00787QT6W', 'B0006LNJ56', 'B003F2T0M4']\n",
      "A21936E2ZRY72J ['B0000632EN', 'B0009OAHRI', 'B003NV9R2U']\n",
      "A1BS22O15EOQ9S ['B001TJXI5U', 'B0016P4P4K', 'B005V1A05S', 'B000GDDKIU', 'B005EIIAPA']\n",
      "A2LAS014NSRW72 ['B00GTBZHUW', 'B00GYB17TC', 'B004YZMKKU', 'B00BXKET7G', 'B000FBNYRU']\n",
      "A2G35B0XBEVQTC ['B0000533CC']\n",
      "A225UWT247BBBH ['B0010O3URU', 'B002VLZHLI', 'B001AZS6R8', 'B00512CREO', 'B003FXE6VI']\n",
      "A17W4YG9W016T1 ['B000052ZB2', 'B004CQXZ5U', 'B001ET7EE6']\n",
      "A2K7V3G4598QRF ['B004DBUAGG', 'B0009R5B8A', 'B0019JAQPA', 'B005TI7L6O']\n",
      "A1DQHS7MOVYYYA ['B0039UTO3M', 'B004D267RG', 'B005KJ35D0', 'B000Z605H2', 'B007RTR9DS']\n",
      "AANHR0DB9SZ80 ['B000N2IGWY', 'B003LYDBCG', 'B0013N483I', 'B001ELTPUU', 'B00021PDN6']\n",
      "A37J8XKLNOX2RO ['B004BCEFUY', 'B0014LLC3I', 'B003YC6GKO']\n",
      "APG4YVSUN3T6S ['B00120XR0M', 'B0034E702U', 'B000TDFA3K', 'B0062W4TD4', 'B002IT3KD0']\n",
      "A2ZHH7AK83JB5G ['B00GTC02LA', 'B002MO3CG6', 'B00CP0R5LK', 'B00HNKRWII', 'B00GYB17P6']\n",
      "A1CI63P473W5RJ ['B001TJXI5U', 'B004TSF8R4', 'B006U98T08', 'B004IZJ2QG', 'B002S8RWYY']\n",
      "AJRFZ0VZ0LD26 ['B00A0J09GG', 'B005LZT9GU', 'B0017JV8I6', 'B003WHF148', 'B009GEUP6A']\n",
      "A3N3ZTC5LDWDWD ['B0080GV0Z0', 'B00AZBVKAS', 'B005DU5MY6', 'B005VX8S4G', 'B00876T3W0']\n",
      "A3GA09FYFKL4EY ['B002XHACTM', 'B004Y9M4DE', 'B000KONYPY', 'B00008MOQE', 'B002PBHQP4']\n",
      "A2UJT1C0E0DWVQ ['B000Q7XDR4', 'B000GHGWKY', 'B0006OU078', 'B000H88PCU', 'B002X9W5OK']\n",
      "A5A3C6XVDYUND ['B00ALV8EJM', 'B00021C1LI', 'B0002YE8V6', 'B00CYA5E1O', 'B0009F3NGE']\n",
      "AV6823XS14U41 ['B002WTC38O', 'B000052ZB4', 'B001G7OCSM', 'B000H3EO9I', 'B0030F6BDW']\n",
      "A1HOPKK8E3MIX6 ['B000KONYJK', 'B0009OAIKY', 'B001FWXIBU', 'B0017JV8I6', 'B0000531SW']\n",
      "A2JNO9OR8FGNR4 ['B0002Z8HAI', 'B00A20OQYE', 'B004INUWX0']\n",
      "AGKAEFSFYWBDF ['B006T8T0P8', 'B00CXN66M8', 'B00A9R0BXU', 'B0032PQPWW', 'B008SPOKIW']\n",
      "AHYPRXI7F5QXS ['B001BKFF76', 'B00013YYS0', 'B004NJ8WFO', 'B002LIXTFC', 'B000VEMWB0']\n",
      "A1YVJ2CLK0L2WR ['B004OE9RO8', 'B004A7OVBI', 'B002L6PXNA', 'B000PHRIQM', 'B007FAOPP4']\n",
      "A5C2PJ2RFO4WS ['B0002Z8HAI', 'B0043TUSME', 'B0043TURKC']\n",
      "A3GKD8MAHURH91 ['B003Z4QHP0', 'B000WQU5IE']\n",
      "A2NIUVVH46ZDTH ['B000RGZK02', 'B000P65UI6']\n",
      "A27UE9HJRZ22YI ['B000YJ2SKM', 'B0009RFAPY', 'B000ODNSR0', 'B0000535RD', 'B001HTYJLO']\n",
      "A177B2VPWX4P55 ['B006OC431K']\n",
      "A2R9M9ALI356JU ['B0000ZLEFU', 'B001GIOV8C', 'B0000530EZ', 'B000JL69OG']\n",
      "A3GNEPABXLTKON ['B0045K1N8E', 'B008PEXV3Q', 'B00CJIOG0Q', 'B0018C0HLQ', 'B000PQDKU6']\n",
      "A3K7I9EGDHAGU4 ['B00121UVU0', 'B000P6I3WG', 'B002UJ31HS']\n",
      "A3KO6JEVS1FJ8X ['B000L9YYTS', 'B003AVNLP2', 'B000REOEYM', 'B0012QD7EC']\n",
      "A1XQ0F01CF84Y3 ['B000EEX7TI', 'B004D8JQ4G', 'B000GIOBY2', 'B000C1ZFBG', 'B000EE803Q']\n",
      "AJ0LVMSVJ0CN1 ['B005I8RH78', 'B009JKDCEI', 'B0046CMBK0', 'B00117CH5M']\n",
      "A2FQZKL2KIZACO ['9790790961', 'B00110Q8FO']\n",
      "A3VV0Z7QF0U4W0 ['B00027DDOQ', 'B0038QLU66', 'B000EX5JO0']\n",
      "A1VUN4JU731CBH ['B000YJ2SKM']\n",
      "A1PTBXZG04GT29 ['B00IP42FBA']\n"
     ]
    }
   ],
   "source": [
    "for uid, user_ratings in top_n.items():\n",
    "    print(uid, [iid for (iid, _) in user_ratings])"
   ]
  }
 ],
 "metadata": {
  "kernelspec": {
   "display_name": "Python 3 (ipykernel)",
   "language": "python",
   "name": "python3"
  },
  "language_info": {
   "codemirror_mode": {
    "name": "ipython",
    "version": 3
   },
   "file_extension": ".py",
   "mimetype": "text/x-python",
   "name": "python",
   "nbconvert_exporter": "python",
   "pygments_lexer": "ipython3",
   "version": "3.12.4"
  }
 },
 "nbformat": 4,
 "nbformat_minor": 5
}
